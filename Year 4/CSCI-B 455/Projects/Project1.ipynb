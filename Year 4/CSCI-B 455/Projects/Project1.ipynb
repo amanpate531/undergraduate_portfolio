{
  "nbformat": 4,
  "nbformat_minor": 0,
  "metadata": {
    "colab": {
      "name": "Project1.ipynb",
      "provenance": [],
      "collapsed_sections": [],
      "toc_visible": true
    },
    "kernelspec": {
      "name": "python3",
      "display_name": "Python 3"
    }
  },
  "cells": [
    {
      "cell_type": "markdown",
      "metadata": {
        "id": "6aGlw8jMGMfV"
      },
      "source": [
        "#Project 1 - Classification Multi-layer Perceptron\r\n",
        "Aman Patel\r\n",
        "\r\n",
        "CSCI-B 455\r\n",
        "\r\n",
        "February 21, 2021"
      ]
    },
    {
      "cell_type": "markdown",
      "metadata": {
        "id": "6eufLmk0Hw99"
      },
      "source": [
        "# **Introduction**"
      ]
    },
    {
      "cell_type": "markdown",
      "metadata": {
        "id": "fELWeuzcOoXi"
      },
      "source": [
        "## Problem Statement\r\n",
        "The goal for this project was to create a Multi-layer Perceptron model including a Back Propagation algorithm to classify wines based on chemical properties.\r\n",
        "\r\n"
      ]
    },
    {
      "cell_type": "markdown",
      "metadata": {
        "id": "kSkrRnIePuJa"
      },
      "source": [
        "## Data\r\n",
        "\r\n",
        "The dataset used for this project was collected from the UC Irvine Machine Learning Repository. It contained the results of chemical analyses of three different wines grown in the same region of Italy. Each data vector had an integer label (1 to 3) and 13 continuous attributes representing the wine's chemical composition. The data can be found at https://archive.ics.uci.edu/ml/datasets/wine"
      ]
    },
    {
      "cell_type": "markdown",
      "metadata": {
        "id": "r97Gx2KhRZKi"
      },
      "source": [
        "## Constructing the Model\r\n",
        "The model was constructed using the design recipe for MLP models from *Machine Learning: An Algorithmic Perspective.* The recipe consists of six steps:\r\n",
        "\r\n",
        "\r\n",
        "1.   Select inputs and outputs\r\n",
        "2.   Normalize inputs\r\n",
        "3.   Split the data into training, testing, and validation sets\r\n",
        "4.   Select a network architecture\r\n",
        "5.   Train the network\r\n",
        "6.   Test the network\r\n",
        "\r\n"
      ]
    },
    {
      "cell_type": "markdown",
      "metadata": {
        "id": "Dt1Rcpcfm4lN"
      },
      "source": [
        "## Splitting the Data\r\n",
        "\r\n",
        "The data were split using the 5-fold cross validation procedure given in the project description. First, the data were shuffled and divided into five equal-sized groups. For each model, one of these groups was selected as the testing set and the remaining groups were merged to form the training set."
      ]
    },
    {
      "cell_type": "markdown",
      "metadata": {
        "id": "tb8cOIPegYun"
      },
      "source": [
        "## Selecting a Network Architecture\r\n",
        "\r\n",
        "The model contains one hidden layer with ten neurons and an output layer with three neurons, one for each class. A hidden layer was used to improve the complexity of the model. With ten neurons, the hidden layer had more neurons than the output layer, but fewer neurons than the input vectors. A sigmoidal activation function was chosen for the hidden layer because it follows all the criteria given in *MLAP* and its derivative is simple for use in error calculations. The softmax activation function was chosen for the output layer because it is commonly used in multi-class classification problems. It is especially useful when multiple labels need to be returned, as it outputs the probability of each class."
      ]
    },
    {
      "cell_type": "markdown",
      "metadata": {
        "id": "SDAd_632mNGh"
      },
      "source": [
        "## Training the Network\r\n",
        "\r\n",
        "The model was trained using a feed-forward, back-propagation approach. Back-propagation is used to gradually edit the weights of a neural network to minimize error.\r\n",
        "\r\n",
        "#### Feed-forward\r\n",
        "To begin, the weights were initialized with random values from 0 to 1. Next, the hidden layer neurons were calculated by multiplying the input values by their respective weights. After adding bias to each neuron, the hidden layer neurons were activated by a sigmoid function. The output layer neurons were calculated similarly, but were activated by the softmax function.\r\n",
        "\r\n",
        "#### Back-propagation\r\n",
        "The error of the output neurons was calculated using the partial derivative of the softmax function. This was used in conjunction with the hidden layer neurons and learning rate to update the secondary weights. A learning rate of 0.01 was chosen for these models to minimize overshooting the minimum while learning at a reasonable pace. The updated secondary weights were used to calculate the error of hidden layer neurons, which was then used to update the primary weights.\r\n",
        "\r\n",
        "#### Iterating\r\n",
        "\r\n",
        "Once back-propagation completed for an input vector, feed-forward began for the next vector. Each time the set of input vectors was finished, the data were reshuffled and sent through the model to continue training."
      ]
    },
    {
      "cell_type": "markdown",
      "metadata": {
        "id": "vk__EbTCuieO"
      },
      "source": [
        "## Testing the Network\r\n",
        "\r\n",
        "To test the models, each testing set was run through their respective model once, and the accuracy was calculated and returned. This function bears a striking resemblance to the training function, but it did not perform back-propagation after softmax activation. Instead, the label of the output neuron with the maximum value was compared to the target label. "
      ]
    },
    {
      "cell_type": "markdown",
      "metadata": {
        "id": "AmhrDARNH3uo"
      },
      "source": [
        "# **Code**"
      ]
    },
    {
      "cell_type": "markdown",
      "metadata": {
        "id": "-xwzLVYoIEDL"
      },
      "source": [
        "Imported random, time, and math packages."
      ]
    },
    {
      "cell_type": "code",
      "metadata": {
        "id": "aBBNqIUrICTl"
      },
      "source": [
        "import random\r\n",
        "from math import exp\r\n",
        "import time"
      ],
      "execution_count": 1,
      "outputs": []
    },
    {
      "cell_type": "markdown",
      "metadata": {
        "id": "TBSQw3-AIYmg"
      },
      "source": [
        "Converted the input file into a usable format and normalized the input vectors."
      ]
    },
    {
      "cell_type": "code",
      "metadata": {
        "id": "qFEjQI4jJJcM"
      },
      "source": [
        "def processInput():\r\n",
        "    file = open('wine.data', 'r')\r\n",
        "    contents = file.readlines()\r\n",
        "    file.close()\r\n",
        "    cleaned = []\r\n",
        "    # remove excess characters and convert to usable number format\r\n",
        "    for i in contents:\r\n",
        "        temp = i.rstrip('\\n')\r\n",
        "        row = temp.split(',')\r\n",
        "        for j in range(0, len(row)):\r\n",
        "            if j == 0:\r\n",
        "                row[j] = int(row[j])\r\n",
        "            else:\r\n",
        "                row[j] = float(row[j]) \r\n",
        "        cleaned.append(row)\r\n",
        "\r\n",
        "    # normalize the input vectors\r\n",
        "    for i in range(1, 14):\r\n",
        "        max_ = -1000000000\r\n",
        "        min_ = 1000000000\r\n",
        "        for j in range(0, len(cleaned)):\r\n",
        "            if cleaned[j][i] > max_:\r\n",
        "                max_ = cleaned[j][i]\r\n",
        "            if cleaned[j][i] < min_:\r\n",
        "                min_ = cleaned[j][i]\r\n",
        "        for j in range(0, len(cleaned)):\r\n",
        "            temp = cleaned[j][i]\r\n",
        "            cleaned[j][i] = (temp - min_) / (max_ - min_)\r\n",
        "    return cleaned"
      ],
      "execution_count": 3,
      "outputs": []
    },
    {
      "cell_type": "markdown",
      "metadata": {
        "id": "DFChgOxMJP6b"
      },
      "source": [
        "Created a baseline model that randomly guesses the classification, regardless of the input attributes. Its accuracy is calculated and returned."
      ]
    },
    {
      "cell_type": "code",
      "metadata": {
        "id": "fOuE8_U2JbsB"
      },
      "source": [
        "def baselineModel(data):\r\n",
        "    # baseline model randomly outputs an integer from 1 to 3, regardless of the input attributes\r\n",
        "    random.shuffle(data)\r\n",
        "    correctCount = 0\r\n",
        "    for i in range(0, len(data)):\r\n",
        "        rand = random.randint(1, 3)\r\n",
        "        if rand == data[i][0]:\r\n",
        "            correctCount += 1\r\n",
        "    percent = correctCount * 100 / len(data)\r\n",
        "    text = f\"{percent:.2f}\" + \"%\"\r\n",
        "    return text"
      ],
      "execution_count": 4,
      "outputs": []
    },
    {
      "cell_type": "markdown",
      "metadata": {
        "id": "5tNe4yflJnFL"
      },
      "source": [
        "Created a Multi-layer Perceptron model with one hidden layer of ten neurons and an output layer of three neurons. The data were divided randomly using 5-fold cross validation and the models were trained sequentially, resetting the neurons between iterations. The accuracy of each model was calculated and the average accuracy was returned."
      ]
    },
    {
      "cell_type": "code",
      "metadata": {
        "id": "hWjEZG7vLLRR"
      },
      "source": [
        "def MLP(data):\r\n",
        "    # initialize the weights\r\n",
        "    v = []\r\n",
        "    for i in range(0, 13):\r\n",
        "        row = []\r\n",
        "        for j in range(0, 10):\r\n",
        "            row.append(random.random())\r\n",
        "        v.append(row)\r\n",
        "    w = []\r\n",
        "    for i in range(0, 10):\r\n",
        "        row = []\r\n",
        "        for j in range(0, 3):\r\n",
        "            row.append(random.random())\r\n",
        "        w.append(row)\r\n",
        "    # shuffle the data prior to separation into 5 sets of train/test data\r\n",
        "    random.shuffle(data)\r\n",
        "    acc_sum = 0\r\n",
        "    train1 = data[35:]\r\n",
        "    test1 = data[:35]\r\n",
        "    # train the model and return the weight matrices\r\n",
        "    v, w = train(train1, v, w, 1)\r\n",
        "    acc_sum += test(test1, v, w)\r\n",
        "    train2 = data[:35]\r\n",
        "    train2.extend(data[70:])\r\n",
        "    test2 = data[35:70]\r\n",
        "    # reset the weight vectors, retrain, and test\r\n",
        "    v = []\r\n",
        "    for i in range(0, 13):\r\n",
        "        row = []\r\n",
        "        for j in range(0, 10):\r\n",
        "            row.append(random.random())\r\n",
        "        v.append(row)\r\n",
        "    w = []\r\n",
        "    for i in range(0, 10):\r\n",
        "        row = []\r\n",
        "        for j in range(0, 3):\r\n",
        "            row.append(random.random())\r\n",
        "        w.append(row)\r\n",
        "    v, w = train(train2, v, w, 2)\r\n",
        "    acc_sum += test(test2, v, w)\r\n",
        "    train3 = data[:70]\r\n",
        "    train3.extend(data[106:])\r\n",
        "    test3 = data[70:106]\r\n",
        "    v = []\r\n",
        "    for i in range(0, 13):\r\n",
        "        row = []\r\n",
        "        for j in range(0, 10):\r\n",
        "            row.append(random.random())\r\n",
        "        v.append(row)\r\n",
        "    w = []\r\n",
        "    for i in range(0, 10):\r\n",
        "        row = []\r\n",
        "        for j in range(0, 3):\r\n",
        "            row.append(random.random())\r\n",
        "        w.append(row)\r\n",
        "    v, w = train(train3, v, w, 3)\r\n",
        "    acc_sum += test(test3, v, w)\r\n",
        "    train4 = data[:106]\r\n",
        "    train4.extend(data[142:])\r\n",
        "    test4 = data[106:142]\r\n",
        "    v = []\r\n",
        "    for i in range(0, 13):\r\n",
        "        row = []\r\n",
        "        for j in range(0, 10):\r\n",
        "            row.append(random.random())\r\n",
        "        v.append(row)\r\n",
        "    w = []\r\n",
        "    for i in range(0, 10):\r\n",
        "        row = []\r\n",
        "        for j in range(0, 3):\r\n",
        "            row.append(random.random())\r\n",
        "        w.append(row)\r\n",
        "    v, w = train(train4, v, w, 4)\r\n",
        "    acc_sum += test(test4, v, w)\r\n",
        "    train5 = data[:142]\r\n",
        "    test5 = data[142:]\r\n",
        "    v = []\r\n",
        "    for i in range(0, 13):\r\n",
        "        row = []\r\n",
        "        for j in range(0, 10):\r\n",
        "            row.append(random.random())\r\n",
        "        v.append(row)\r\n",
        "    w = []\r\n",
        "    for i in range(0, 10):\r\n",
        "        row = []\r\n",
        "        for j in range(0, 3):\r\n",
        "            row.append(random.random())\r\n",
        "        w.append(row)\r\n",
        "    v, w = train(train5, v, w, 5)\r\n",
        "    acc_sum += test(test5, v, w)\r\n",
        "    # return the average accuracy of the MLP\r\n",
        "    percent = acc_sum * 100 / 5\r\n",
        "    text = f\"{percent:.2f}\" + \"%\"\r\n",
        "    return text"
      ],
      "execution_count": 6,
      "outputs": []
    },
    {
      "cell_type": "markdown",
      "metadata": {
        "id": "NmrZC9lNLfpY"
      },
      "source": [
        "Trained the MLP model using feed-forward and back propagation algorithms. Each model was trained for 120 seconds, then tested using the remaining data."
      ]
    },
    {
      "cell_type": "code",
      "metadata": {
        "id": "f4e7rBlXMVCP"
      },
      "source": [
        "def train(data, v, w, num):\r\n",
        "    print(\"Start training MLP model\", num)\r\n",
        "    # 120 seconds of training per set of train/test data\r\n",
        "    t_end = time.time() + 120\r\n",
        "    while time.time() < t_end:\r\n",
        "        # randomly shuffle the data between training sessions\r\n",
        "        random.shuffle(data)\r\n",
        "        for x in data:\r\n",
        "            # initialize hidden and output layers\r\n",
        "            a = []\r\n",
        "            hj = []\r\n",
        "            hk = []\r\n",
        "            for i in range(0, 3):\r\n",
        "                hk.append(0)\r\n",
        "            for i in range(0, 10):\r\n",
        "                a.append(0)\r\n",
        "                hj.append(0)\r\n",
        "            for j in range(0, 10):\r\n",
        "                for i in range(1, len(x)):\r\n",
        "                    # calculate components of hidden layer neurons based on initial weights and input vector\r\n",
        "                    h = x[i]*v[i-1][j]\r\n",
        "                    hj[j] = hj[j] + h\r\n",
        "                # add bias to each hidden layer neuron\r\n",
        "                hj[j] += 1\r\n",
        "                # apply sigmoid activation to each hidden layer neuron\r\n",
        "                a[j] = activation(hj[j])\r\n",
        "            for j in range(0, 3):\r\n",
        "                for i in range(0, 10):\r\n",
        "                    # calculate components of output layer neurons based on secondary weights and hidden layer\r\n",
        "                    h = a[i]*w[i][j]\r\n",
        "                    hk[j] = hk[j] + h\r\n",
        "                # add bias to each output layer neuron\r\n",
        "                hk[j] += 1\r\n",
        "            # apply softmax activation to the output layer\r\n",
        "            y = softmax(hk)\r\n",
        "            error_o = []\r\n",
        "            # calculate error for each output layer neuron\r\n",
        "            for k in range(0, len(y)):\r\n",
        "                error_o.append(find_error_output(y, x, k))\r\n",
        "            # update secondary weights based on error\r\n",
        "            w = update_output(w, error_o, 0.01, a)\r\n",
        "            error_h = []\r\n",
        "            # calculate error for each hidden layer neuron\r\n",
        "            for z in range(0, len(w)):\r\n",
        "                error_h.append(find_error_hidden(error_o, w, a, z))\r\n",
        "            # update primary weights based on error\r\n",
        "            v = update_hidden(v, error_h, 0.01, x)\r\n",
        "    return v, w"
      ],
      "execution_count": 8,
      "outputs": []
    },
    {
      "cell_type": "markdown",
      "metadata": {
        "id": "Vc4Ugsr0M-c2"
      },
      "source": [
        "Activated hidden layer neurons using the sigmoid activation function.\r\n",
        "\r\n"
      ]
    },
    {
      "cell_type": "code",
      "metadata": {
        "id": "SuPG6wMMM90l"
      },
      "source": [
        "def activation(value):\r\n",
        "    # sigmoid activation used on each node in hidden layer\r\n",
        "    return 1 / (1 + exp(-1 * value))"
      ],
      "execution_count": 12,
      "outputs": []
    },
    {
      "cell_type": "markdown",
      "metadata": {
        "id": "ZQXkezRXNMDq"
      },
      "source": [
        "Activated output layer neurons using the softmax activation function."
      ]
    },
    {
      "cell_type": "code",
      "metadata": {
        "id": "UEsLf8npNTrj"
      },
      "source": [
        "def softmax(hk):\r\n",
        "    # softmax activation used on output layer vector\r\n",
        "    sum_ = 0\r\n",
        "    for i in range(0, len(hk)):\r\n",
        "        sum_ += exp(hk[i])\r\n",
        "    y = []\r\n",
        "    for i in range(0, len(hk)):\r\n",
        "        val = exp(hk[i]) / sum_\r\n",
        "        y.append(val)\r\n",
        "    return y"
      ],
      "execution_count": 13,
      "outputs": []
    },
    {
      "cell_type": "markdown",
      "metadata": {
        "id": "uH_cY90jNXHc"
      },
      "source": [
        "Calculated the error for each output neuron, then updated the secondary weights accordingly."
      ]
    },
    {
      "cell_type": "code",
      "metadata": {
        "id": "iTwrVBZ7Njdq"
      },
      "source": [
        "def find_error_output(y, x, k):\r\n",
        "    # value of tk depends on if classification was correct \r\n",
        "    if k+1 == x[0]:\r\n",
        "        tk = 1\r\n",
        "    else:\r\n",
        "        tk = 0\r\n",
        "    # error for softmax found in lecture slides\r\n",
        "    return (y[k]-tk) * y[k] * (1-y[k])\r\n",
        "\r\n",
        "def update_output(w, error_o, learnRate, a):\r\n",
        "    # update secondary weights using secondary weights, output error, arbitrary learning rate, and hidden layer vector\r\n",
        "    for i in range(0, len(w)):\r\n",
        "        for j in range(0, len(w[0])):\r\n",
        "            w[i][j] = w[i][j] - (learnRate * error_o[j] * a[i])\r\n",
        "    return w"
      ],
      "execution_count": 10,
      "outputs": []
    },
    {
      "cell_type": "markdown",
      "metadata": {
        "id": "wTP0p1guNoML"
      },
      "source": [
        "Calculated the error for each hidden layer neuron using the updated secondary weights and updated the primary weights accordingly."
      ]
    },
    {
      "cell_type": "code",
      "metadata": {
        "id": "39SZL2O7OCW0"
      },
      "source": [
        "def find_error_hidden(error_o, w, a, z):\r\n",
        "    # error for hidden layer based on derivative of sigmoid function\r\n",
        "    weight_sum = 0\r\n",
        "    for i in range(0, len(error_o)):\r\n",
        "        weight_sum += error_o[i] * w[z][i]\r\n",
        "    return a[z] * (1-a[z]) * weight_sum\r\n",
        "\r\n",
        "def update_hidden(v, error_h, learnRate, x):\r\n",
        "    # update primary weights using initial weights, hidden error, arbitrary learning rate, and input vector\r\n",
        "    for i in range(0, len(v)):\r\n",
        "        for j in range(0, len(v[0])):\r\n",
        "            v[i][j] = v[i][j] - (learnRate * error_h[j] * x[i + 1])\r\n",
        "    return v"
      ],
      "execution_count": 11,
      "outputs": []
    },
    {
      "cell_type": "markdown",
      "metadata": {
        "id": "Qw--uf_yOGc8"
      },
      "source": [
        "Tested the models against the remaining data after training finished. The accuracy of each model was recorded, the average accuracy was calculated, and the accuracy was returned."
      ]
    },
    {
      "cell_type": "code",
      "metadata": {
        "colab": {
          "base_uri": "https://localhost:8080/"
        },
        "id": "Pg-DRn6-OP8s",
        "outputId": "978b7e4e-483f-480b-b8a2-a3277c948e55"
      },
      "source": [
        "def test(data, v, w):\r\n",
        "    correctCount = 0\r\n",
        "    # runs through the same feed forward process used in training\r\n",
        "    for x in data:\r\n",
        "        a = []\r\n",
        "        hj = []\r\n",
        "        hk = []\r\n",
        "        for i in range(0, 3):\r\n",
        "            hk.append(0)\r\n",
        "        for i in range(0, 10):\r\n",
        "            a.append(0)\r\n",
        "            hj.append(0)\r\n",
        "        for j in range(0, 10):\r\n",
        "            for i in range(1, len(x)):\r\n",
        "                 h = x[i]*v[i-1][j]\r\n",
        "                 hj[j] = hj[j] + h\r\n",
        "            a[j] = activation(hj[j])\r\n",
        "        for i in range(0, 10):\r\n",
        "            for j in range(0, 3):\r\n",
        "                 h = a[i]*w[i][j]\r\n",
        "                 hk[j] = hk[j] + h\r\n",
        "        y = softmax(hk)\r\n",
        "        # instead of calculating error, the index of the max value of y is found\r\n",
        "        # this index is compared to the actual classification of the input vector\r\n",
        "        for i in range(0, len(y)):\r\n",
        "            if y[i] == max(y):\r\n",
        "                if x[0] == (i + 1):\r\n",
        "                    correctCount += 1\r\n",
        "    percent = correctCount * 100 / len(data)\r\n",
        "    text = f\"{percent:.2f}\" + \"%\"\r\n",
        "    print(\"Accuracy:\", text)\r\n",
        "    return correctCount / len(data)\r\n",
        "\r\n",
        "def main():\r\n",
        "    data = processInput()\r\n",
        "    print(\"Baseline model accuracy:\", baselineModel(data))\r\n",
        "    print(\"Average MLP accuracy:\", MLP(data))\r\n",
        "    \r\n",
        "if __name__ == \"__main__\":\r\n",
        "    main()\r\n"
      ],
      "execution_count": 14,
      "outputs": [
        {
          "output_type": "stream",
          "text": [
            "Baseline model accuracy: 36.52%\n",
            "Start training MLP model 1\n",
            "Accuracy: 94.29%\n",
            "Start training MLP model 2\n",
            "Accuracy: 97.14%\n",
            "Start training MLP model 3\n",
            "Accuracy: 91.67%\n",
            "Start training MLP model 4\n",
            "Accuracy: 88.89%\n",
            "Start training MLP model 5\n",
            "Accuracy: 97.22%\n",
            "Average MLP accuracy: 93.84%\n"
          ],
          "name": "stdout"
        }
      ]
    },
    {
      "cell_type": "markdown",
      "metadata": {
        "id": "O-vwP3aTH6OH"
      },
      "source": [
        "# **Results**"
      ]
    },
    {
      "cell_type": "markdown",
      "metadata": {
        "id": "ib-lNYINwt0i"
      },
      "source": [
        "After training each model for 120 seconds, the average accuracy of the model was 90-95%. The graph below illustrates the accuracy of the model relative to training time. The accuracy of the model increased significantly from 0 to 40 seconds, then oscillated about 91% from 40 to 120 seconds.\r\n",
        "\r\n",
        "![graph.JPG](data:image/jpeg;base64,/9j/4AAQSkZJRgABAQEAwADAAAD/4RDsRXhpZgAATU0AKgAAAAgABAE7AAIAAAALAAAISodpAAQAAAABAAAIVpydAAEAAAAWAAAQzuocAAcAAAgMAAAAPgAAAAAc6gAAAAgAAAAAAAAAAAAAAAAAAAAAAAAAAAAAAAAAAAAAAAAAAAAAAAAAAAAAAAAAAAAAAAAAAAAAAAAAAAAAAAAAAAAAAAAAAAAAAAAAAAAAAAAAAAAAAAAAAAAAAAAAAAAAAAAAAAAAAAAAAAAAAAAAAAAAAAAAAAAAAAAAAAAAAAAAAAAAAAAAAAAAAAAAAAAAAAAAAAAAAAAAAAAAAAAAAAAAAAAAAAAAAAAAAAAAAAAAAAAAAAAAAAAAAAAAAAAAAAAAAAAAAAAAAAAAAAAAAAAAAAAAAAAAAAAAAAAAAAAAAAAAAAAAAAAAAAAAAAAAAAAAAAAAAAAAAAAAAAAAAAAAAAAAAAAAAAAAAAAAAAAAAAAAAAAAAAAAAAAAAAAAAAAAAAAAAAAAAAAAAAAAAAAAAAAAAAAAAAAAAAAAAAAAAAAAAAAAAAAAAAAAAAAAAAAAAAAAAAAAAAAAAAAAAAAAAAAAAAAAAAAAAAAAAAAAAAAAAAAAAAAAAAAAAAAAAAAAAAAAAAAAAAAAAAAAAAAAAAAAAAAAAAAAAAAAAAAAAAAAAAAAAAAAAAAAAAAAAAAAAAAAAAAAAAAAAAAAAAAAAAAAAAAAAAAAAAAAAAAAAAAAAAAAAAAAAAAAAAAAAAAAAAAAAAAAAAAAAAAAAAAAAAAAAAAAAAAAAAAAAAAAAAAAAAAAAAAAAAAAAAAAAAAAAAAAAAAAAAAAAAAAAAAAAAAAAAAAAAAAAAAAAAAAAAAAAAAAAAAAAAAAAAAAAAAAAAAAAAAAAAAAAAAAAAAAAAAAAAAAAAAAAAAAAAAAAAAAAAAAAAAAAAAAAAAAAAAAAAAAAAAAAAAAAAAAAAAAAAAAAAAAAAAAAAAAAAAAAAAAAAAAAAAAAAAAAAAAAAAAAAAAAAAAAAAAAAAAAAAAAAAAAAAAAAAAAAAAAAAAAAAAAAAAAAAAAAAAAAAAAAAAAAAAAAAAAAAAAAAAAAAAAAAAAAAAAAAAAAAAAAAAAAAAAAAAAAAAAAAAAAAAAAAAAAAAAAAAAAAAAAAAAAAAAAAAAAAAAAAAAAAAAAAAAAAAAAAAAAAAAAAAAAAAAAAAAAAAAAAAAAAAAAAAAAAAAAAAAAAAAAAAAAAAAAAAAAAAAAAAAAAAAAAAAAAAAAAAAAAAAAAAAAAAAAAAAAAAAAAAAAAAAAAAAAAAAAAAAAAAAAAAAAAAAAAAAAAAAAAAAAAAAAAAAAAAAAAAAAAAAAAAAAAAAAAAAAAAAAAAAAAAAAAAAAAAAAAAAAAAAAAAAAAAAAAAAAAAAAAAAAAAAAAAAAAAAAAAAAAAAAAAAAAAAAAAAAAAAAAAAAAAAAAAAAAAAAAAAAAAAAAAAAAAAAAAAAAAAAAAAAAAAAAAAAAAAAAAAAAAAAAAAAAAAAAAAAAAAAAAAAAAAAAAAAAAAAAAAAAAAAAAAAAAAAAAAAAAAAAAAAAAAAAAAAAAAAAAAAAAAAAAAAAAAAAAAAAAAAAAAAAAAAAAAAAAAAAAAAAAAAAAAAAAAAAAAAAAAAAAAAAAAAAAAAAAAAAAAAAAAAAAAAAAAAAAAAAAAAAAAAAAAAAAAAAAAAAAAAAAAAAAAAAAAAAAAAAAAAAAAAAAAAAAAAAAAAAAAAAAAAAAAAAAAAAAAAAAAAAAAAAAAAAAAAAAAAAAAAAAAAAAAAAAAAAAAAAAAAAAAAAAAAAAAAAAAAAAAAAAAAAAAAAAAAAAAAAAAAAAAAAAAAAAAAAAAAAAAAAAAAAAAAAAAAAAAAAAAAAAAAAAAAAAAAAAAAAAAAAAAAAAAAAAAAAAAAAAAAAAAAAAAAAAAAAAAAAAAAAAAAAAAAAAAAAAAAAAAAAAAAAAAAAAAAAAAAAAAAAAAAAAAAAAAAAAAAAAAAAAAAAAAAAAAAAAAAAAAAAAAAAAAAAAAAAAAAAAAAAAAAAAAAAAAAAAAAAAAAAAAAAAAAAAAAAAAAAAAAAAAAAAAAAAAAAAAAAAAAAAAAAAAAAAAAAAAAAAAAAAAAAAAAAAAAAAAAAAAAAAAAAAAAAAAAAAAAAAAAAAAAAAAAAAAAAAAAAAAAAAAAAAAAAAAAAAAAAAAAAAAAAAAAAAAAAAAAAAAAAAAAAAAAAAAAAAAAAAAAAAAAAAAAAAAAAAAAAAAAAAAAAAAAAAAAAAAAAAAAAAAAAAAAAAAAAAAAAAAAAAAAAAAAAAAAAAAAAAAAAAAAAAAAAAAAAAAAAAAAAAAAAAAAAAAAAAAAAAAAAAAAAAAAAAAAAAAAAAAAAAAAAAAAAAAAAAAAAAAAAAAAAAAAAAAAAAAAAAAAAAAAAAAAAAAAAAAAAAAAAAAAAAAAAAAAAAAAAAAAAAAAAAAAAAAAAAAAAAAAAAAAAAAAAAAAAAAAAAAAAAAAAAAAAAAAAAAAAAAAAAAAAAAAAAAAAAAAAAAAAAAAAAAAAAAAAAAAAAAAAAAAAAAAAAAAAAAAAAAAAAAAAAAAAAAAAAAAAAAAAAAAAAAAAAAAAAAAAAAAAAAAAAAAAAAAAAAAAAAAAAAAAAAAAAAAAAAAAAAAAAAAAAAAAAAAAAAAAAAAAAAAAAAAAAAAAAAAAAAAAAAAAAAAAAAAAAAAAAAAAAAAAAAAAAAAAAAAAAAAAAAAAAAAAAAAAAAAAAAAAAAAAAAAAAAAAAAAAAAAAAAAAAAAAAAAAAAAAAAAAAAAAAAAAAAAAAAAAAAAAAAAAAAAAAAAAAAAAAAAAAAEFtYW4gUGF0ZWwAAAAFkAMAAgAAABQAABCkkAQAAgAAABQAABC4kpEAAgAAAAM4NQAAkpIAAgAAAAM4NQAA6hwABwAACAwAAAiYAAAAABzqAAAACAAAAAAAAAAAAAAAAAAAAAAAAAAAAAAAAAAAAAAAAAAAAAAAAAAAAAAAAAAAAAAAAAAAAAAAAAAAAAAAAAAAAAAAAAAAAAAAAAAAAAAAAAAAAAAAAAAAAAAAAAAAAAAAAAAAAAAAAAAAAAAAAAAAAAAAAAAAAAAAAAAAAAAAAAAAAAAAAAAAAAAAAAAAAAAAAAAAAAAAAAAAAAAAAAAAAAAAAAAAAAAAAAAAAAAAAAAAAAAAAAAAAAAAAAAAAAAAAAAAAAAAAAAAAAAAAAAAAAAAAAAAAAAAAAAAAAAAAAAAAAAAAAAAAAAAAAAAAAAAAAAAAAAAAAAAAAAAAAAAAAAAAAAAAAAAAAAAAAAAAAAAAAAAAAAAAAAAAAAAAAAAAAAAAAAAAAAAAAAAAAAAAAAAAAAAAAAAAAAAAAAAAAAAAAAAAAAAAAAAAAAAAAAAAAAAAAAAAAAAAAAAAAAAAAAAAAAAAAAAAAAAAAAAAAAAAAAAAAAAAAAAAAAAAAAAAAAAAAAAAAAAAAAAAAAAAAAAAAAAAAAAAAAAAAAAAAAAAAAAAAAAAAAAAAAAAAAAAAAAAAAAAAAAAAAAAAAAAAAAAAAAAAAAAAAAAAAAAAAAAAAAAAAAAAAAAAAAAAAAAAAAAAAAAAAAAAAAAAAAAAAAAAAAAAAAAAAAAAAAAAAAAAAAAAAAAAAAAAAAAAAAAAAAAAAAAAAAAAAAAAAAAAAAAAAAAAAAAAAAAAAAAAAAAAAAAAAAAAAAAAAAAAAAAAAAAAAAAAAAAAAAAAAAAAAAAAAAAAAAAAAAAAAAAAAAAAAAAAAAAAAAAAAAAAAAAAAAAAAAAAAAAAAAAAAAAAAAAAAAAAAAAAAAAAAAAAAAAAAAAAAAAAAAAAAAAAAAAAAAAAAAAAAAAAAAAAAAAAAAAAAAAAAAAAAAAAAAAAAAAAAAAAAAAAAAAAAAAAAAAAAAAAAAAAAAAAAAAAAAAAAAAAAAAAAAAAAAAAAAAAAAAAAAAAAAAAAAAAAAAAAAAAAAAAAAAAAAAAAAAAAAAAAAAAAAAAAAAAAAAAAAAAAAAAAAAAAAAAAAAAAAAAAAAAAAAAAAAAAAAAAAAAAAAAAAAAAAAAAAAAAAAAAAAAAAAAAAAAAAAAAAAAAAAAAAAAAAAAAAAAAAAAAAAAAAAAAAAAAAAAAAAAAAAAAAAAAAAAAAAAAAAAAAAAAAAAAAAAAAAAAAAAAAAAAAAAAAAAAAAAAAAAAAAAAAAAAAAAAAAAAAAAAAAAAAAAAAAAAAAAAAAAAAAAAAAAAAAAAAAAAAAAAAAAAAAAAAAAAAAAAAAAAAAAAAAAAAAAAAAAAAAAAAAAAAAAAAAAAAAAAAAAAAAAAAAAAAAAAAAAAAAAAAAAAAAAAAAAAAAAAAAAAAAAAAAAAAAAAAAAAAAAAAAAAAAAAAAAAAAAAAAAAAAAAAAAAAAAAAAAAAAAAAAAAAAAAAAAAAAAAAAAAAAAAAAAAAAAAAAAAAAAAAAAAAAAAAAAAAAAAAAAAAAAAAAAAAAAAAAAAAAAAAAAAAAAAAAAAAAAAAAAAAAAAAAAAAAAAAAAAAAAAAAAAAAAAAAAAAAAAAAAAAAAAAAAAAAAAAAAAAAAAAAAAAAAAAAAAAAAAAAAAAAAAAAAAAAAAAAAAAAAAAAAAAAAAAAAAAAAAAAAAAAAAAAAAAAAAAAAAAAAAAAAAAAAAAAAAAAAAAAAAAAAAAAAAAAAAAAAAAAAAAAAAAAAAAAAAAAAAAAAAAAAAAAAAAAAAAAAAAAAAAAAAAAAAAAAAAAAAAAAAAAAAAAAAAAAAAAAAAAAAAAAAAAAAAAAAAAAAAAAAAAAAAAAAAAAAAAAAAAAAAAAAAAAAAAAAAAAAAAAAAAAAAAAAAAAAAAAAAAAAAAAAAAAAAAAAAAAAAAAAAAAAAAAAAAAAAAAAAAAAAAAAAAAAAAAAAAAAAAAAAAAAAAAAAAAAAAAAAAAAAAAAAAAAAAAAAAAAAAAAAAAAAAAAAAAAAAAAAAAAAAAAAAAAAAAAAAAAAAAAAAAAAAAAAAAAAAAAAAAAAAAAAAAAAAAAAAAAAAAAAAAAAAAAAAAAAAAAAAAAAAAAAAAAAAAAAAAAAAAAAAAAAAAAAAAAAAAAAAAAAAAAAAAAAAAAAAAAAAAAAAAAAAAAAAAAAAAAAAAAAAAAAAAAAAAAAAAAAAAAAAAAAAAAAAAAAAAAAAAAAAAAAAAAAAAAAAAAAAAAAAAAAAAAAAAAAAAAAAAAAAAAAAAAAAAAAAAAAAAAAAAAAAAAAAAAAAAAAAAAAAAAAAAAAAAAAAAAAAAAAAAAAAAAAAAAAAAAAAAAAAAAAAAAAAAAAAAAAAAAAAAAAAAAAAAAAAAAAAAAAAAAAAAAAAAAAAAAAAAAAAAAAAAAAAAAAAAAAAAAAAAAAAAAAAAAAAAAAAAAAAAAAAAAAAAAAAAAAAAAAAAAAAAAAAAAAAAAAAAAAAAAAAAAAAAAAAAAAAAAAAAAAAAAAAAAAAAAAAAAAAAAAAAAAAAAAAAAAAAAAAAAAAAAAAAAAAAAAAAAAAAAAAAAAAAAAAAAAAAAAAAAAAAAAAAAAAAAAAAAAAAAAAAAAAAAAAAAAAAAAAAAAAAAAAAAAAAAAAAAAAAAAAAAAAAAAAAAAAAAAAAAAAAAAAAAAAAAAAAAAAAAAAAAAAAAAAAAAAAAAAAAAAAAAAAAAAAAAAAAAAAAAAAAAAAAAMjAyMTowMjoyMSAyMzoyMToxMwAyMDIxOjAyOjIxIDIzOjIxOjEzAAAAQQBtAGEAbgAgAFAAYQB0AGUAbAAAAP/hCx1odHRwOi8vbnMuYWRvYmUuY29tL3hhcC8xLjAvADw/eHBhY2tldCBiZWdpbj0n77u/JyBpZD0nVzVNME1wQ2VoaUh6cmVTek5UY3prYzlkJz8+DQo8eDp4bXBtZXRhIHhtbG5zOng9ImFkb2JlOm5zOm1ldGEvIj48cmRmOlJERiB4bWxuczpyZGY9Imh0dHA6Ly93d3cudzMub3JnLzE5OTkvMDIvMjItcmRmLXN5bnRheC1ucyMiPjxyZGY6RGVzY3JpcHRpb24gcmRmOmFib3V0PSJ1dWlkOmZhZjViZGQ1LWJhM2QtMTFkYS1hZDMxLWQzM2Q3NTE4MmYxYiIgeG1sbnM6ZGM9Imh0dHA6Ly9wdXJsLm9yZy9kYy9lbGVtZW50cy8xLjEvIi8+PHJkZjpEZXNjcmlwdGlvbiByZGY6YWJvdXQ9InV1aWQ6ZmFmNWJkZDUtYmEzZC0xMWRhLWFkMzEtZDMzZDc1MTgyZjFiIiB4bWxuczp4bXA9Imh0dHA6Ly9ucy5hZG9iZS5jb20veGFwLzEuMC8iPjx4bXA6Q3JlYXRlRGF0ZT4yMDIxLTAyLTIxVDIzOjIxOjEzLjg1MjwveG1wOkNyZWF0ZURhdGU+PC9yZGY6RGVzY3JpcHRpb24+PHJkZjpEZXNjcmlwdGlvbiByZGY6YWJvdXQ9InV1aWQ6ZmFmNWJkZDUtYmEzZC0xMWRhLWFkMzEtZDMzZDc1MTgyZjFiIiB4bWxuczpkYz0iaHR0cDovL3B1cmwub3JnL2RjL2VsZW1lbnRzLzEuMS8iPjxkYzpjcmVhdG9yPjxyZGY6U2VxIHhtbG5zOnJkZj0iaHR0cDovL3d3dy53My5vcmcvMTk5OS8wMi8yMi1yZGYtc3ludGF4LW5zIyI+PHJkZjpsaT5BbWFuIFBhdGVsPC9yZGY6bGk+PC9yZGY6U2VxPg0KCQkJPC9kYzpjcmVhdG9yPjwvcmRmOkRlc2NyaXB0aW9uPjwvcmRmOlJERj48L3g6eG1wbWV0YT4NCiAgICAgICAgICAgICAgICAgICAgICAgICAgICAgICAgICAgICAgICAgICAgICAgICAgICAgICAgICAgICAgICAgICAgICAgICAgICAgICAgICAgICAgICAgICAgICAgICAgICAKICAgICAgICAgICAgICAgICAgICAgICAgICAgICAgICAgICAgICAgICAgICAgICAgICAgICAgICAgICAgICAgICAgICAgICAgICAgICAgICAgICAgICAgICAgICAgICAgICAgIAogICAgICAgICAgICAgICAgICAgICAgICAgICAgICAgICAgICAgICAgICAgICAgICAgICAgICAgICAgICAgICAgICAgICAgICAgICAgICAgICAgICAgICAgICAgICAgICAgICAgCiAgICAgICAgICAgICAgICAgICAgICAgICAgICAgICAgICAgICAgICAgICAgICAgICAgICAgICAgICAgICAgICAgICAgICAgICAgICAgICAgICAgICAgICAgICAgICAgICAgICAKICAgICAgICAgICAgICAgICAgICAgICAgICAgICAgICAgICAgICAgICAgICAgICAgICAgICAgICAgICAgICAgICAgICAgICAgICAgICAgICAgICAgICAgICAgICAgICAgICAgIAogICAgICAgICAgICAgICAgICAgICAgICAgICAgICAgICAgICAgICAgICAgICAgICAgICAgICAgICAgICAgICAgICAgICAgICAgICAgICAgICAgICAgICAgICAgICAgICAgICAgCiAgICAgICAgICAgICAgICAgICAgICAgICAgICAgICAgICAgICAgICAgICAgICAgICAgICAgICAgICAgICAgICAgICAgICAgICAgICAgICAgICAgICAgICAgICAgICAgICAgICAKICAgICAgICAgICAgICAgICAgICAgICAgICAgICAgICAgICAgICAgICAgICAgICAgICAgICAgICAgICAgICAgICAgICAgICAgICAgICAgICAgICAgICAgICAgICAgICAgICAgIAogICAgICAgICAgICAgICAgICAgICAgICAgICAgICAgICAgICAgICAgICAgICAgICAgICAgICAgICAgICAgICAgICAgICAgICAgICAgICAgICAgICAgICAgICAgICAgICAgICAgCiAgICAgICAgICAgICAgICAgICAgICAgICAgICAgICAgICAgICAgICAgICAgICAgICAgICAgICAgICAgICAgICAgICAgICAgICAgICAgICAgICAgICAgICAgICAgICAgICAgICAKICAgICAgICAgICAgICAgICAgICAgICAgICAgICAgICAgICAgICAgICAgICAgICAgICAgICAgICAgICAgICAgICAgICAgICAgICAgICAgICAgICAgICAgICAgICAgICAgICAgIAogICAgICAgICAgICAgICAgICAgICAgICAgICAgICAgICAgICAgICAgICAgICAgICAgICAgICAgICAgICAgICAgICAgICAgICAgICAgICAgICAgICAgICAgICAgICAgICAgICAgCiAgICAgICAgICAgICAgICAgICAgICAgICAgICAgICAgICAgICAgICAgICAgICAgICAgICAgICAgICAgICAgICAgICAgICAgICAgICAgICAgICAgICAgICAgICAgICAgICAgICAKICAgICAgICAgICAgICAgICAgICAgICAgICAgICAgICAgICAgICAgICAgICAgICAgICAgICAgICAgICAgICAgICAgICAgICAgICAgICAgICAgICAgICAgICAgICAgICAgICAgIAogICAgICAgICAgICAgICAgICAgICAgICAgICAgICAgICAgICAgICAgICAgICAgICAgICAgICAgICAgICAgICAgICAgICAgICAgICAgICAgICAgICAgICAgICAgICAgICAgICAgCiAgICAgICAgICAgICAgICAgICAgICAgICAgICAgICAgICAgICAgICAgICAgICAgICAgICAgICAgICAgICAgICAgICAgICAgICAgICAgICAgICAgICAgICAgICAgICAgICAgICAKICAgICAgICAgICAgICAgICAgICAgICAgICAgICAgICAgICAgICAgICAgICAgICAgICAgICAgICAgICAgICAgICAgICAgICAgICAgICAgICAgICAgICAgICAgICAgICAgICAgIAogICAgICAgICAgICAgICAgICAgICAgICAgICAgICAgICAgICAgICAgICAgICAgICAgICAgICAgICAgICAgICAgICAgICAgICAgICAgICAgICAgICAgICAgICAgICAgICAgICAgCiAgICAgICAgICAgICAgICAgICAgICAgICAgICAgICAgICAgICAgICAgICAgICAgICAgICAgICAgICAgICAgICAgICAgICAgICAgICAgICAgICAgICAgICAgICAgICAgICAgICAKICAgICAgICAgICAgICAgICAgICAgICAgICAgICAgICAgICAgICAgICAgICAgICAgICAgICAgICAgICAgICAgICAgICAgICAgICAgICAgICAgICAgICAgICAgICAgICAgICAgIAogICAgICAgICAgICAgICAgICAgICAgICAgICAgPD94cGFja2V0IGVuZD0ndyc/Pv/bAEMABwUFBgUEBwYFBggHBwgKEQsKCQkKFQ8QDBEYFRoZGBUYFxseJyEbHSUdFxgiLiIlKCkrLCsaIC8zLyoyJyorKv/bAEMBBwgICgkKFAsLFCocGBwqKioqKioqKioqKioqKioqKioqKioqKioqKioqKioqKioqKioqKioqKioqKioqKioqKv/AABEIAjsDwwMBIgACEQEDEQH/xAAfAAABBQEBAQEBAQAAAAAAAAAAAQIDBAUGBwgJCgv/xAC1EAACAQMDAgQDBQUEBAAAAX0BAgMABBEFEiExQQYTUWEHInEUMoGRoQgjQrHBFVLR8CQzYnKCCQoWFxgZGiUmJygpKjQ1Njc4OTpDREVGR0hJSlNUVVZXWFlaY2RlZmdoaWpzdHV2d3h5eoOEhYaHiImKkpOUlZaXmJmaoqOkpaanqKmqsrO0tba3uLm6wsPExcbHyMnK0tPU1dbX2Nna4eLj5OXm5+jp6vHy8/T19vf4+fr/xAAfAQADAQEBAQEBAQEBAAAAAAAAAQIDBAUGBwgJCgv/xAC1EQACAQIEBAMEBwUEBAABAncAAQIDEQQFITEGEkFRB2FxEyIygQgUQpGhscEJIzNS8BVictEKFiQ04SXxFxgZGiYnKCkqNTY3ODk6Q0RFRkdISUpTVFVWV1hZWmNkZWZnaGlqc3R1dnd4eXqCg4SFhoeIiYqSk5SVlpeYmZqio6Slpqeoqaqys7S1tre4ubrCw8TFxsfIycrS09TV1tfY2dri4+Tl5ufo6ery8/T19vf4+fr/2gAMAwEAAhEDEQA/APpGiiigAooooAKKKKACiiigAooooAKKKKACiiigAooooAKKKKACiiigAooooAKKKKACiiigAooooAKKKKACiiigAooooAKKKKACiiigAooooAKKKKACiiigAooooAKKKKACiiigAooooAKKKKACiiigAooooAKKKKACiiigAooooAKKKKACiiigAooooAKKKKACiiigAooooAKKKKACiiigAooooAKKKKACiiigAooooAKKKKACiiigAooooAKKKKACiiigAooooAKKKKACiiigAooooAKKKKACiiigAooooAKKKKACiiigAooooAKqan/yDZfw/mKt1U1P/kGy/h/MUAW6Kh8+T/n1l/NP/iqKAJqKKKACiiigAooooAKKKKACiiigAooooAKKKKACiiigAooooAKKKKACiiigAooooAKKKKACiiigAooooAKKKKACiiigAooooAKKqQatp11fS2Vtf2s13DkyQRzK0iYODlQcjBIH41boAKKKKACiiigAooooAKKKKACiiigAooooAKKKKACiiigAooooAKKKKACiis678Q6Lp9y1vf6vYWs64LRTXKIwzyMgnNAGjRWP/wAJd4b/AOhg0r/wNj/+Kq9Yarp+qI76ZfW14qHDm3mWQKffBOKALVFFFABRRVB9c0xNbTSGvYhqEib1t93zEYJ/kCfpQBfooooAKKhvLy30+zlu72ZIIIVLSSOcBRTNP1C01WxjvdOnS4tpc7JEPDYOD+oIoAs0UUUAFFFFABRRWdd+IdF0+5a3v9XsLWdcFoprlEYZ5GQTmgDRorH/AOEu8N/9DBpX/gbH/wDFVag1zSrqzuLu11K0uLe2UtNLDMrrGAMkkgnHAzQBeoqppmq2Os2K3ml3MdzbsSoeM8ZHUVboAKKKKACiiigAooooAKKKKACiiigAooooAKKKKACiiigAooooAKKKKACiiigAooooAKKKKACiiigAooooAKKKKACiiigAooooAKKKKACqmp/8g2X8P5irdVNT/wCQbL+H8xQBbooooAKKKKACiiigAooooAKKKKACiiigAooooAKKKKACiiigAooooAKKKKACiiigAooooAKKKKACiiigAooooAKKKKACiiigArP13VotD0G91O4KhLaIuA38Tfwr9ScD8a0K8w+M2swx2WmaJLKUS6nE1yUGWWJTj9SSR/u0AcdptndeFD4a8aXMkhF/dSG7O0HajHH0yy7zj2/L6AryDxf478H+IPBk2j232qNo0U2g8jAR0Hyjr0I+X6Gut+HviCTVfhzFcu2+5skeCQsOCUGV6f7JWgCXW/iToOiak2nk3N/dxkiSGyi8wxkY4JJAzz2Jxg5xWh4a8YaV4qjm/sx5Vmt8Ca3nTZJHn1HTsRwTXJ/BW2ifw3f6m4El7c3rLLMeWICqQD+LE/j9K7ye2trNrzUoLaFbt4f3kuz5pAoO0E9TQBz+t/EnQdE1JtPJub+7jJEkNlF5hjIxwSSBnnsTjBzitDw14w0rxVHN/ZjyrNb4E1vOmySPPqOnYjgmuT+CttE/hu/1NwJL25vWWWY8sQFUgH8WJ/H6V6FHY2sV9NeRW8SXM6qssyoAzhegJ74oAy/Dfiuw8ULeHT47iP7HN5MgnUDJ9RgnjijU/FdhpXiTTtEuY7g3Oof6p0UFBzj5jnPbsDXH/B7/AJmL/r+/+Ko8a/8AJX/CX+f4jQB13iHxdpvhm90631MTL9vZ1SVAuyMLtyXJIwPmHTPQ1n6F8StC8Q6ydOsFug2xnE0sYWNgoyec549wK574sWcOoeJvBtldAtDc3jxSAHBKs8IPP0NeiqtnpGl4UR2tnaRE4A2rGijJ/AAUAcbP8XfD6SOtpbanfxxkhpba2BQf99MDXSeHPFGl+KtPa70iYuEbbJG42vGe2R79j0/I1ymneNtV1K12eB/BrS6dCxSOWSZLeMgHkKvA/I+vFZ3wsluj418VreWyWcryq8tshBWN978AjrjJ6UAdj4k8c6L4XlSDUJpJbuQApa26b5GBOB6AfiRntUPh74gaN4i1H+z4FurS9Kllt7uHYzgckjBI/WuY8HRpqHxi8T3t5iSe0YxwFicou7Zx/wABAH416RJY2s15Ddy28T3MGRFMUG9ARggHrg56UAZPhvxbY+J5L6KzhureawlEU8V1GEZTz2BPdSPXil8QeLdP8OXmn2l3HcT3OoS+VBFboGbOQMnJGBlgK5Axt4U+N6ylRHY+IYiobkjzeMj67wPb95+SWqN4q+N9xc4L2Ph+Lygd3Hm8jGPXcXP/AAD8KAPTKwdK8YWGr+JdQ0KGG5hvbDJkEyKFcBgNykE5HIPOOCK3q8x8aY8M/FLQfEY2pb3n+jXROTj+Esf+AsMY/ufmAdp4o8Vaf4S0tL7VPNZJJBGkcKhnYkE8AkDAAPeo9f8AGOl+G7K3m1PzhLcgeVaRoGmY46bc/h1xmuQ8Vq3ij4t6NoKBntdMX7VdAHgHhsH8Ag/4H261qeOvDWsXut6V4g8OLDcXmmnH2WYgBxnOckge3b1BoA0ND8f6frmrppsen6nZ3EgYqLu2CA4GTyCe1dTXH+HPiDBrGsjRtT0y70fVWBZLe4UkOAM8HAPQE8gDA612FABWBqngbw3rOoSX2p6XHPcyY3yF3BbAAHQjsAK36KAPG/B3hHQtS8eeJ9PvdPSW1s5ttvGXYeWN7DqDnoO9drPeeGPhvPZ2UNk9mmqyNmSM7kTZtyzlmyAA3bPesPwB/wAlO8Zf9dz/AOjGpnxYs4dQ8TeDbK6BaG5vHikAOCVZ4QefoaAOi0D4j6J4k1v+zNNS78wqzJLJEFR8DJwc5/MCql38WPD8F3Lb2kGo6iY22s9pb7lyOuCxFdhDDbabYrFAkdta26YVRhVRQP0FcLY+N73UPPi8CeEGu7OJyPtDSpbxs3G7Axgnn1z3oA6Xwx4w0nxbbSS6TK2+IjzIZV2yJnuRk8e44rNnm8NL8VLaCSxmbxA1sXjugT5artYYI3Yztz/D361y3w8mvZfit4ibU7RLK5kgLzW6MGCNuTuOD1zn3q5d/wDJw1j/ANeJ/wDQHoA6nWfHGj6Br8Wlaq0sDyW/2n7QVHlKuWGCc5zlcYAPUVkQfFzw3JqMVtMt9axyn5Lq4gCxMOxznOD64+uKyfE9jbal8ePD9tfQpPA1huaNxlSV89hkd+QOK2vixaQSfDS+Z4lJtnheHjGw+Yq5H/AWYfjQB0PiVtPTwzqD61C09gkDNPGmdzqBnAwRz+I+tUNA1LRrH4fR6no1rNBpNvbyzpAeZAqlmYcscnIPf8azNSdpfgf5kh3O2ixsxPcmNap6B/yQGX/sF3f/ALUoAtyfFnw6tjDPEl7cSyoXNrDCGliXOMv820evXuK3PDHi3SvFtk9xpMj5iIEsMq7XiJzjI5HODyCR+tYXwk0+0t/h/ZXcNvGlzdGUzSgfM+JGUZPphRx0rN8ORJafHrxJb2y+XE9mJWQdC7eSxP4l2P40AdT4l8baR4Wligv2mmu5l3R2ttHvkZeRnsAMgjk/yNc+fjHoouWtzpOteev3ovsybh+G/NZsuq6ZoXx21G51yaGKOazRbeZufKbYgwf7pIDc+h96W81O18UfGPQpfDUouRYwsbq6jU7VX5sqWxyMHHpl8Z64APUI38yJH2su5QdrDBHsfesLVPA3hvWdQkvtT0uOe5kxvkLuC2AAOhHYAVv0UAeN+DvCOhal488T6fe6ektrZzbbeMuw8sb2HUHPQd69GTw9oHhzw/qcdtp4hsZYXa6jRmJkQIcjk56Z7iuS8Af8lO8Zf9dz/wCjGruPEn/Iqat/15Tf+gGgDK8HXugx+CPt3hy0mtdNTzZDDJkyAqTu6sck49fSs8fFnw62mw3MUd9NNMTts4oQ0wUEgsQG2gceufaqPw7/AOSNz/8AXO5/9mpfgvYWsXg975IEF1NO6STY+YqMYGfT2oA17P4n+F7zR7jUftpgW3xvgmXbKSegVf4jwehPTnimaP8AE7QdY1ePTfLvbK4mwIPtcG0SkngAgnr74rnNM0ewuf2gdaWe2jdLe2FyiMoK+YViy2D3+dj9an+MsaRQ6FfIoFxFe7Vfvjg4/NRQB6NfX1tpljNeX8yQW8K7pJHPCj/PbvXGn4s6FkyR2WrSWasVN6lp+5xnGc5zj8M+1Z/xou5U0PTLJBuiurwGRd20vtHC56AZP6Cra6r44WyFmPAtp9mEflCI6hEV2YxtwT0xxQB2mm6laaxpsN/ps6z2swzHIoIzzg8HkcgjBq1XEfC7QtZ8PaDd2mt2/wBmDXRkgh81ZCqlRnlSRjI9fXj17egAooooAKKKKACiiigAooooAKKKKACiiigAooooAKKKKACiiigAooooAKKKKACiiigAooooAKKKKACiiigAooooAKqan/yDZfw/mKt1U1P/AJBsv4fzFAFuiiigAooooAKKKKACiiigAooooAKKKKACiiigAooooAKKKKACiiigAooooAKKKKACiiigAooooAKKKKACiiigAooooAKKKKACuF0zw3qlx8WNQ8RavbeVaQxeVYHejbuAucAkjjcecfe/Cu6ooAK4Lwb4b1fwx421uIWoGhXjGWCVZFO1s5VcZ3DAZh0/hH1rvaKAPMbPw34t8CapeL4RtLXVdKu5N6wTShHi4PcsOnAzk5AHArp/C0Piua/ur/xXJbwI6COCwtuVjweWJyeT9T17dK6eigDzGz8N+LfAmqXi+EbS11XSruTesE0oR4uD3LDpwM5OQBwK6fwtD4rmv7q/8VyW8COgjgsLblY8Hlicnk/U9e3SunooA8yg8P8Ai7wX4l1GXwtZW+q6bqLiUrNMsZibJOOSP7x6ZyMVG/hTxfeePNF13WfJuBHLulS3kUR2iDooDEFjyc4B+pr1GigDivG/h7U9Y8T+FLzTrfzoNOvfNuW8xV2LviOcEjPCHpk11eq2C6po95p7uY1u4HgLgZKhlK5/WrVFAHmfh61+IHhXShoVpo1jeQQu3kXj3KqihmJ5XIYjJJ6A81e8B+Ftc0HxVrl3rhjm+2hHF1Gw2yuSWbC9RgnHIHTiu+ooA891nwr4g0XxlN4m8FrbXLXaFLqyuGxuJwSQSQOoB6jB9QSK0NEPjnUvEFvda/FaaTptvuLWcLh3nYqQMsCeATnqO3B6jsqKAOB+L+mLdeD01BJI4rjTp1ljdmwSDwVHqc7T/wABqx8KdKlsfB/2+8DfatUma6kZupU/d/MfN/wKtLxp4Tfxhp9tYtqLWVtHMJZlSLe0uBgDORjqex5x6V0MUSQQpFEu2ONQqqOwAwBQA+uc8eeHG8UeEbmxgRWulImttzbcSL79OQWXnjn8a6OigDhPhv4Z1jS5tU1XxQhXU751X5pFc7FHXKkjkn1z8taXiWbxlaaxFceGLazv7FoNstrOwRlkDE7gxI6ggdSOOneupooA880/w34j8Q+NrLxF4st7XTU09NsNrA4dnbJI3MCRjJz19Bjqa2rs+L2+IVqLRYl8OLH++J2ZY7TnOfnznGMYHTPeupooAKKKKAOJ8I+HNT0rxz4m1K+gWO1vpt1u/mK3mAsxzgHIxkdcdaXxv4e1PWPE/hS806386DTr3zblvMVdi74jnBIzwh6ZNdrRQBFdW6XdnNbSFgk0bRsV6gEY4rzTw9pvjvwXYz6Pp2j2ep23nNJDdNcKgGfVSwPbOO2ep7eoUUAefeDfC3iDSfH2qarrxhnF5bc3EDDYZCynaFPzYAGMkdqs3Hh7VJPjLaa6lrnTY7QxtP5i8NtYY253dSO1dxRQBxWqeHtTuPjDo2uw2+7TrazaKabzFGxsS4G0nJ++vQd60viBpV7rfgXUNP0uHz7qby/Lj3qucSqx5YgdAa6OigDlbvRr+X4TroyQZvxpcdv5O9f9YIwCN2cdR1zioNH0HUbb4RPodxb+XqDWFxCIi6n5337RuBx3HeuxooA5z4f6Ve6J4F0/T9Uh8i6h8zzI96tjMrMOVJHQis3S/D+p2/xi1nXJrbbp1zZrFFP5incwEPG3O4fcbqO1drRQB41crqOpfFDX/wDhFNOttWTAjvhqsYeJXU42gkjAyuAM/wAJ7CtRvE/iDwHHE+t+FNLtNNmkCvJpeIwGOeoBPOB3/Ot6/wDh/KNcu9V8N69daJPetvuEjQSRyN3baSOeSec8k461DH8OZr3ULe48VeIrzWo7dt8duyCKPd6kAn+n9KAO4VgyhhnBGRkYP5GloooA4nwj4c1PSvHPibUr6BY7W+m3W7+YreYCzHOAcjGR1x1rqNbt5bzw/qNtbrvmmtZY41yBlihAGT7mr1FAHGeC/D+paV8NZNJ1C38i9ZZwIzIrfezjlSR3qX4aaJqHh/wetjq9v9nuBO77N6vwcYOVJFddRQBxWl+H9Tt/jFrOuTW23TrmzWKKfzFO5gIeNudw+43UdqZ8T/D2qeItN02LR7X7Q8F35kg8xU2rjr8xFdxRQBzvjfwnH4v8OtYmQQ3Eb+bbykcK4BGD7EEg/gecVz9pqPxOs4FtJ9CsL54xtF2blV38dSN4JP4CvQqKAMjw0ddbSmbxQLZb1pWIS2+6idh/PueMd616KKACiiigAooooAKKKKACiiigAooooAKKKKACiiigAooooAKKKKACiiigAooooAKKKKACiiigAooooAKKKKACiiigAqpqf/INl/D+Yq3VTU/+QbL+H8xQBLtuf+e0X/fo/wDxVFTUUAFFFFABRRRQAUUUUAFFFFABRRRQAUUUUAFFFFABRRRQAUUUUAFFFFABRRRQAUUUUAFFFFABRRRQAUUUUAFFFFABRRRQAUUUUAFFFFABRRRQAUUUUAFFFFABRRRQAUUUUAFFFFABRRRQAUUUUAFFFFABRRRQAUUUUAFFFFABRRRQAUUUUAFFFFABRRRQAUUUUAFFFFABRRRQAUUUUAFFFFABRRRQAUUUUAFFFFABRRRQAUUUUAFFFFABRRRQAUUUUAFFFFABRRRQAUUUUAFFFFABRRRQAUUUUAFFFFABRRRQAUUUUAFFFFABRRRQAVU1P/kGy/h/MVbqpqf/ACDZfw/mKALdFFFABRRRQAUUUUAFFFFABRRRQAUUVxvxBOvDR76bTb4afYWtmZnlhz58smT8gP8AAoABJHJzigDsqK5DWfEV1o3wtg1SKTffyWkCxNIN26Vwozz1PJPPpWP4h03VvBekweIoPEWqX0lrJF9ut7mfzIZUZgrbUONvJGP8mgD0eiuHkF54v8Z6vp66xfafpukpHEBp8vlPJK4ySWwTgYxj/wCvm14JvNQi1HXPD+qXct8+kzR+Vczcu8UillDHuRjqfWgDrqKKKACiiigAooooAKKKKACiiigAooooAKKKKACiiigAooooAKKKKACiiigAooooAKKKKACiiigAooooAKKKKACiiigAooooAKKKKACiiigAooooAKKKKACiiigAooooAKKKKACiiigAooooAKKKKACiiigAooooAKKKKACiiigAooooAKKKKACiiigAooooAKKKKACiiigAooooAKKKKACiiigAooooAKKKKACiiigAooooAKKKKACiiigAooooAKKKKACiiigAooooAKKKKACqmp/8g2X8P5irdVNT/wCQbL+H8xQBboqH7LH/AHpf+/z/AONFAE1FFFABRRRQAUUUUAFFFFABXGfEfxHpNj4b1HSLu8WO/ubNmhhKtlwcgc4x1B712dFAHml/Lb+MPhGtt4elF7e6bBbu8KK27eijK44JOA2MZyRin+JPE9j450GLw9oBkmvtQliW4jMTD7IquGcuSABgrjvntXpFFAHn0OpWvgjx5rr68zW1jqxiuLW68tmRmAIZCQDg5JOPQe4rR8ErLqGseIPEjRPDbarPEtssilWeOJNofB6A5/SuwooAKKKKAMqeNbnxGIZstGLTeE3EAHfjNWv7Ms/+eP8A48f8ag/5mr/ty/8AZ60qAKn9mWf/ADx/8eP+NH9mWf8Azx/8eP8AjVuigCp/Zln/AM8f/Hj/AI0f2ZZ/88f/AB4/41booAqf2ZZ/88f/AB4/40f2ZZ/88f8Ax4/41booAqf2ZZ/88f8Ax4/40f2ZZ/8APH/x4/41booAqf2ZZ/8APH/x4/40f2ZZ/wDPH/x4/wCNW6KAKn9mWf8Azx/8eP8AjR/Zln/zx/8AHj/jVuigCp/Zln/zx/8AHj/jR/Zln/zx/wDHj/jVuigDMu7C2iEPlx43Sqp+Y8g1Y/syz/54/wDjx/xov/u2/wD13WrdAFT+zLP/AJ4/+PH/ABo/syz/AOeP/jx/xq3RQBU/syz/AOeP/jx/xo/syz/54/8Ajx/xq3RQBU/syz/54/8Ajx/xo/syz/54/wDjx/xq3RQBU/syz/54/wDjx/xo/syz/wCeP/jx/wAat0UAVP7Ms/8Anj/48f8AGj+zLP8A54/+PH/GrdFAFT+zLP8A54/+PH/Gj+zLP/nj/wCPH/GrdFAFT+zLP/nj/wCPH/Gj+zLP/nj/AOPH/GrdFAGZfWFtDZSSRx7WGMHcfWrA0y0x/qf/AB4/40up/wDIOl/D+Yq0OgoAqf2ZZ/8APH/x4/40f2ZZ/wDPH/x4/wCNW6KAKn9mWf8Azx/8eP8AjR/Zln/zx/8AHj/jVuigCp/Zln/zx/8AHj/jR/Zln/zx/wDHj/jVuigCp/Zln/zx/wDHj/jR/Zln/wA8f/Hj/jVuigCp/Zln/wA8f/Hj/jR/Zln/AM8f/Hj/AI1booAqf2ZZ/wDPH/x4/wCNH9mWf/PH/wAeP+NW6KAKn9mWf/PH/wAeP+NH9mWf/PH/AMeP+NW6KAKn9mWf/PH/AMeP+NV7GwtprNHkj3MScncfWtOqmmf8g9Pqf5mgA/syz/54/wDjx/xo/syz/wCeP/jx/wAat0UAVP7Ms/8Anj/48f8AGj+zLP8A54/+PH/GrdFAFT+zLP8A54/+PH/Gj+zLP/nj/wCPH/GrdFAFT+zLP/nj/wCPH/Gj+zLP/nj/AOPH/GrdFAFT+zLP/nj/AOPH/Gj+zLP/AJ4/+PH/ABq3RQBU/syz/wCeP/jx/wAaP7Ms/wDnj/48f8at0UAVP7Ms/wDnj/48f8aP7Ms/+eP/AI8f8at0UAVP7Ms/+eP/AI8f8arxWFs19cRtHlUC7RuPGRV66uoLK1e4vJkhhjGXkdsACuf0vxfoGoa1PBaanC8khVY1IK7yB0GQM1cYTkrpaEuUU7Nm1/Zln/zx/wDHj/jR/Zln/wA8f/Hj/jVuioKKn9mWf/PH/wAeP+NH9mWf/PH/AMeP+NW6KAKn9mWf/PH/AMeP+NH9mWf/ADx/8eP+NW6KAKn9mWf/ADx/8eP+NH9mWf8Azx/8eP8AjVuigCp/Zln/AM8f/Hj/AI0f2ZZ/88f/AB4/41booAqf2ZZ/88f/AB4/40f2ZZ/88f8Ax4/41booAqf2ZZ/88f8Ax4/40f2ZZ/8APH/x4/41booAqf2ZZ/8APH/x4/41XnsLZLy2RY8K5bcNx5wK06qXP/H/AGn1b+VAB/Zln/zx/wDHj/jR/Zln/wA8f/Hj/jVuigCp/Zln/wA8f/Hj/jR/Zln/AM8f/Hj/AI1booAqf2ZZ/wDPH/x4/wCNH9mWf/PH/wAeP+NW6KAKn9mWf/PH/wAeP+NH9mWf/PH/AMeP+NW6KAKn9mWf/PH/AMeP+NH9mWf/ADx/8eP+NW6KAKn9mWf/ADx/8eP+NH9mWf8Azx/8eP8AjVuigCp/Zln/AM8f/Hj/AI0f2ZZ/88f/AB4/41booAqf2ZZ/88f/AB4/41Be2Vvb2bywoUdSCrBjxyPetKqmp/8AINl/D+YoAt0UUUAFFFFABVTU/wDkGy/h/MVbqpqf/INl/D+YoAt0UUUAFFFFABRRRQAUUUUAFFFFABRRRQAUVBe3ttp1jNeX0yw28KF5JG6KBXPQePtPkntFurDU7C3vWCW13dW22GRm+6MgkgnqMgdDQB1FFYOs+L7LSNQFglpfale+X5r22nwea8aercgDP+eoqz4f8RWPiXT2utPMi+W5jmhmTZJE46qw9aANWiiigDN/5mr/ALcv/Z60qzf+Zq/7cv8A2etKgAooooAKKKKACiiigAooooAKKKKACiiigAooooAqX/3bf/rutW6qX/3bf/rutW6ACiiigAooooAKKKKACiiigAooooAKKx9V8WaHotx5Gp6jFDNwTGAWYZ9QoOPxq9p+pWeq2gudOuY7mEnG+Ns8+h9DVuE1Hma0JUot2TLVFQXd9aafCZr65hto/wC/K4UfrXI6r8VfD9huS0abUJB/zxXav/fTY/QGqp0alT4FcUqkIfEyLxh8RdO0eaXTIIXvLleJNrbVjPBxnByfp0rQ8KePtO8UTG1SN7S8C7hDIchwOpU9/pXg80rzzyTSnLyMXY+pJzV7QJNRh1y2n0aB7i8hbzI40QvnHXIHbFe7LLaSpW69zzVi5ufkfSlFeWf8LE8YWv8Ax/8AhrAHU/ZpU/mTSp8Y5Ym23mglT3xcFf0K15f1Cv0V/mjt+s0+p6Xd31pYR+ZfXUNsh/imkCD8zT7e5gu4hLazRzRno8bhgfxFfOHiDXbvxDq819eOx3MfLjzlY17KP881peB/Esnh3xFC8k5jsZm2XKnJXaf4sDuPWuqWVyVPmv73YwWMTna2h9A0VkWvizQL3H2fWLNieitMFP5HBrVSRJUDxOrqehU5BryZRlH4lY7lJPYdRXK+K/H2neF5ltXje7vCAxhjONgPQse30qr4Z+JmneIL9LGe3exuZOIwz71c+gbA5+o5rZYas4e0UdDP21NS5b6naUUUVzmoUVHcXMFpEZbqaOGMdXkcKPzNMtL60v4/MsbqG5QfxQyBx+Yp2driutieimySJFGXldURRksxwB+NczqvxF8N6VuU332uQf8ALO1G/wD8e+7+tXCnOo7QVxSnGPxMseKfGOneFII/tYea4lGY4I+pHqT2Fc34a+KWm3U8Vhf2z2RdtqSl96ZJ4B4GOvXpXnHi3Xx4l8Rz6ikbRRMqpGjnJUAAfzyfxrFVSzBVBJJwAB1r3qWW0vZLn+L8jzJ4ufP7ux9S1DPeW1qM3NxFCPWRwv8AOvLoPh14sv7eM6j4gKKyj9208rlBjoQcDj0q1B8GYc5vNalkJ6+XAF/Usa8v2GHj8VX7kzs9pVe0PxMz4leNJ7nUf7K0e9As40Blkt5AfNY843DsPT1zmuO0TxHqWgaglzYXMgAbLxFspIM8gj39etdl4o+FM9hbxz+HGmvQBiaKRl357FcAZHt1/pgaP8PfEGrXixSWUtjFn55rlCgUewPJNezQnhVQsmrdbnBUjWdS7Wp7vY3aX+n293FwlxEsq89mAI/nU9eTCw+IHgtQLKQ6lYxjhFzMoHptPzL+HFauk/F2xlYQ67ZS2MoOGkjBdQfcfeH61408HN+9SfMvI9COIjtPRnolFc7qXjvQNP0f+0Fvo7pGO2OOBgzs2OmO344rnLD4w6dPeiK+0+a0hY484SeZj3IAB/LNZRwteabjFlyrU4uzZ6LRTY5EljWSJg6OAyspyCD0NOrmNQorI8R+JbDwxp32rUGYlztiiQZaRvQf41yNh8YdOnvRFfafNaQscecJPMx7kAA/lmuinhq1SPNCN0ZSqwg7SZ6LRXKa38R9A0dSsdz9vnxxHakMPxboP5+1cg3iLxt43Yx6Fatp9k3BlQ7Rj3lPX/gNXTwlSS5pe6u70JlXhF2Wr8hvxi1OV9UstNWT9xHF5zICOXJI5+gH615t0r1eH4OrJYSNfatI1+4yrIuY1b3zy314rP034RXT6o8WpajCLeIgt5AJZgR2yMD9a9mhisNRp8ilt5bnBUo1pz5rbnYeCvGNhqfh+yhvtShGoqmyWOVwrMQSAeeuRg8etddXCan8JdBu1JsHuLB+21vMX8Q3P61h/wDCH+OfDPPh/VPtUC9Ikkx/44/y/ka8uVLD1W3Tna/R/wCZ2KdWCtKN/Q9XorxvVviL4rtNPk0/UrIWF2/C3PlNG+O+AeCfcVw8Wp30F4LqG8nS4BB80SHd+dbU8sqTV3JL8SJ4yMXZI+nKK5vwJ4jfxJ4aiuLplN3EximwR8xGPmx2yCK6SvMqQlTk4S3R1xkpRUkFFFU49X02W6+zRahavP8A88lnUt+Wc1KTew7pFyiiszVvEekaGpOqX8MDYyIy2XP0Uc/pTjGUnaKuDaSuybWNWtdD0qfUL5tsMK5IHVj2Ue5NeXS/GTUTeEwaZai2ycI7MXI/3gcfpUPjvx7a+J9NXTNKtbjy0lErTPgbgoPG0Z45znI6V57XvYPAw5L1o6nm18TLmtTeh9H+GvEdp4n0lb6yyhB2yRMfmjb0P8wa168I8H+KNR8G28tw2lyXFheFTvYMgyuR8rYx3/SvRdK+KHh3Udq3E0lhIf4bhPlz/vDI/PFefiMFUhNumrx+86aWIjKK5nZnZVUuf+P+0+rfyp6ahZy2bXcV3A9sqlmmWQFAByTnpXGXfxQ8OjVYVR7iSOJmDTLF8vpxzk/lXJCjUqX5Yt2N5VIR3Z3dFQWV7bajZx3djMk8EgykiHINT1m007MvcKKKKQBRRQSACScAdSaAGySJFG0krBEQFmZjgADqa88v/jDp0F6YrHT5ruFWx5xk8vI9QCCfzxU/xB8Y6P8A8I3e6XZ36TXs6hAsPzhRuG7LDgcZHWvF69nA4GNSLnVXp0ODEYhxfLBn0f4c8S2HifTvtWnswKHbLE4w0beh/wAa16+f/Buq69otxc3egaa98rKI5h5DyKvOR93oetdaPi3qVocap4f2nviRo/0ZTWVbL5qo1S1XrqXTxUXFOe56nRXnMPxk0tlPn6Zdo2OAjKwz9civNNb8R6lr9+9zf3MhBbKRBsJGM8AD29etTRy6tN2n7o54qEV7up9I0V4b4V+JGoeHreW3vEfUbcr+5SSXBjb/AHsE49q3f+Eu8e+IONF0g2sTfdkWH/2eT5aU8vqwlZtW7tjjioSWl79j06+u0sNPuLuXlLeJpW57KCT/ACr511vxHqWv373N/cuwZspEGwkYzwAPb1613g+H3i3XTu8Q655aN1jMjSkf8BGF/I1y2u+ANd0a8dEtJLy3B+SeBCwIzxkDkGu7AxoUZNOacjmxDqzS91pHR/C3xXfNrA0S+ne4gmRjB5jZMbKCxAPoQDx7V63Xmnw28DX2l6gdY1iP7PIqFIICfmGeCzenHQe9el152PdN126f9M6sMpqn7wUUUVwnSFVNT/5Bsv4fzFW6qan/AMg2X8P5igC3RUP2y2/5+Iv++xRQBNRRRQAUUUUAFFFFABRRRQAUUUUAYfjPRbjxD4Pv9Ls5FjnnRdjN0JVg2D9duPxri/iBqXiC78HeTqGgrYOJ4cXP2tHBk3DGxVy3JyeccflXpGoW813p80FrdPZzSLtWdFDMnuAeK5238Iahc6lZ3XifxBJq6WMgmt4FtVt0Eo6O20ncR2//AF5AKnhB2n+IHjKWfaZlngjB7hAjBR+QqTwsqp8RfGaQ/wCq8y0YAHK7zES/4561b1TwndS+IJNa8P6w+kXtxEsV1m3WdJgv3SVJGGHAznoB75veHPD0fh+zmT7RJeXV1KZ7q6lADTOe/sB2HagDYooooAyZnkj8Tgwxea32Ppux/HVv7Rd/8+P/AJFFQf8AM1f9uX/s9aVAFT7Rd/8APj/5FFH2i7/58f8AyKKt0UAVPtF3/wA+P/kUUfaLv/nx/wDIoq3RQBU+0Xf/AD4/+RRR9ou/+fH/AMiirdFAFT7Rd/8APj/5FFH2i7/58f8AyKKt0UAVPtF3/wA+P/kUUfaLv/nx/wDIoq3RQBU+0Xf/AD4/+RRR9ou/+fH/AMiirdFAFT7Rd/8APj/5FFH2i7/58f8AyKKt0UAZl3NcMId9rsxKpH7wHJ9KsfaLv/nx/wDIoov/ALtv/wBd1q3QBU+0Xf8Az4/+RRR9ou/+fH/yKKt0UAVPtF3/AM+P/kUUfaLv/nx/8iis6+8aeHtNvDa3mqQpOp2soDNtPoSAQPxrXtbqC9tUuLOZJoZBlJEbIIq5QnFXa0JUot2TIftF3/z4/wDkUUfaLv8A58f/ACKKt0jMEUsxCqBkkngCoKKv2i7/AOfH/wAiij7Rd/8APj/5FFeb638X5Ib94dCs4ZYI22+dcZPmYPUAEYHpWronxX0q70+WTWVNlcRfwIC4l/3ff2P512SwOIUeblMFiKTdrnZ/aLv/AJ8f/IoqlrGrXOm6Nd3bWyxmKF2VnmXG4AkdfeuGvfifqusXBs/CGkyMx6SSJ5j49do4X8SRUdt8OvEXiKdbrxdqrxjr5W7zHHsB91fwz9KuOE5PeryUfLd/cS6/NpTVzzKeaS5uJJ53aSWRi7ux5YnkmtnwpPr51F7DwzcSRT3a4cKwXIXnOT0xzz1/Ouz1b4OS/ad2iahH5Jx8l3ncvryo5/IV1HgvwHB4V33M8wur6RdpkC4WNfRe/Pc16tbHUPZPl1faxxU8NU59dDlbf4Xape3H2jxFfTTufvCOUMx/4G2f5V1mleDdI0ja1voEcsg/5a3EokbPrzwPwArrKK8Wpi61TRy08tD0I0acdkcb4m8Iadrubq805racAAzwSqCRwBkYwfSrnh7wzZ+Glc6bpTea4w08swZyPTOOB7CtzU/+QdL+H8xVodBWTrVHDkcnYv2cObmtqVPtF3/z4/8AkUUjTXLrtfTww9DIpq5RWRZ494l+GOqSapNdaHaq0EzF/IMqgxk9QCTgjNTeG/hdcpM03iS1Eke0hbeOcA59SwPb0Fet0V3/ANoV/Z8l/n1Ob6rT5uax5vdfCrTJsm2hvbc9gLhGX9Vz+tZjfCrVrVy+l6k0bds/IfzVv6V63RURx2Ij9op4ek+h81a9Y6hput3Ftq7vJdoRvkdi2/jg5PJGKrWKXMl/AtijvcmRfKVBkls8Yr6D8QeEdI8TBDqUB81BhZojtcD0z3Hsar+H/AuieHLj7RZQyS3IGFmuGDMvrjAAH4CvTjmdP2Wq978DjeDlz6PQ4/8A4Sz4i2/+s0Dzf+3Jz/6CaP8AhYvi+D/j78NY9f8ARpk/mTXqdFed9ZpPekjq9jPpNnzt4q8T6h4l1PzdQBhWIbUtgTtj9eD396o6TrGoaLei50m5eCYjbleQ2exB4P416Z45+G11qmqyapoRjaSfma3dtuW/vAnjn0rP8KfC3UF1WG78QrHBBAwfyFcO0hHQEg4Az717EMVhlQ6WtscMqNb2n6gfh/4r1yQS+I9RfGc7DL5hH0Gdo/Cui0r4d6Ppu1pdJe+kH8VzOGH/AHyMD8wa7mivEnjK01a9l5aHoRoU462v6nOat4dsdZ09LO70SNYo+YjFIqGP12kDjp0rJ8PeBdK0meO+g0+W8mQkxvPMpCnPULgcj1ruaqaZ/wAg9Pqf5mslXqqPKpOxo6cG7tah9ou/+fH/AMiij7Rd/wDPj/5FFW6KxLKn2i7/AOfH/wAiij7Rd/8APj/5FFW6KAKn2i7/AOfH/wAiisvV9Ds9cUjVNDinbGBJ5gDj6MOa36KqMpRd4uwmk1ZngfjnwovhrUIDbRzJa3CEr5rB8MDyMgDtj3rla+mdW0ex1ywaz1O3WeFuQD1U+oPY1zdh8LvDljei4MU9ztbKx3EgZB+AAz+Oa9uhmUY07VL3X4nnVMJJzvDY5DR1+JcGjWselxstmIx5IYQZ2nkfe5/Oru/4sf3f0ta9T6dKK4Xjbu/s4/cdKw9lbmf3ngHjNPFRmtZfFyMG2lYWxHjHUj5OM/WuYr6Z1bR7HXLBrPU7dZ4W5APVT6g9jXN2Hwu8OWN6LgxT3O1srHcSBkH4ADP45rvo5lTjTtKNmu2xzVMJNyun95j+CfBNlDo9pqOoaQbu7mXzP38g2qCflwh9sdc13qz3SKFWw2qBgASjAFXOnSivHrVp1ZOUmd8IRgrIqfaLv/nx/wDIoqvFNcC+uGW1yxC7l8wfLx61p1Ug/wCQld/RP5ViWH2i7/58f/Ioo+0Xf/Pj/wCRRVuigDjPHfhy98VaRGlvbeXdWzl4t0q4YHqv8vyryuLwR4lluxbjR7pWzjc6bUH/AAI8frX0PRXfh8dUoQ5Ero5quGhUlzM8iX4S6hHBFJb3piugoL9Nu72IIIFSpo/xL0X/AI87x7tF/hM6y8fST+lesUUvr1V/HaXqg+rQXw3R4p4k8aeLv7KbTNZszYGY4MywtE0ijqAc4I6ZxXCqxVgykgg5BB6V9C+MfC0fivRhbeYIbiJt8EpGQD3BHoRXlsXwr8TPeCKSGCKPIzOZlK4+g5/SvVwmKoez6RfY4q9GrzdWW9KvfHvi3S0g065kW0hHlNcBxGWIA+8/3icEdK2NL+FSRyedrhmvpCclI5Qik+55J/Su78OaFB4c0ODTrZi/ljLyEY3uepx2+laleZVxsuZqj7q8kdkMOrJz1Zj6bp0GkQ+VpmiQ2ykYPlsoLfU9T+NZsvg3RJ7w3MnhqEyEknE2FJ/3QcfpXVUVxqrUTupM6HCLVmiiGmWAQrpqiILtEYddoHpj0rndV8D6Pq25pNCW3kP/AC0tZhGfyHB/EV2FFKFScHeLsEoxkrNHh/ivwLdeGNNe+tbmU2juI5I2Izg9MkHBGfauJr6fvbK31Gxms72ISwTKUdD3Feb3XwhsV1OJYdTnS3lZv3ZjBZQOcbs/0r28LmMVG1Z6nn1sK73prQ5rwZ4+k8KWc9rLZNeQSyB1/fbPLOOccHrx6V10Pxk0xv8AX6bdRn/ZZWH9K7bStEsNF0pNOsYAtumSQ/zFiepPqabceHNFu8/adJspCe7W65/PFcdXEYarNylB+tzeFKtCKSl+Byr/ABZ0QWskkaSGVVJWJgQWPpnGBXm9/wCPPEd/em4OqT2/zZWK3coi+2B1/HNeq6x8N9AvtOuEsbCO1u2Q+TKrMArdsjOMfhXi1/o2o6Zem0vrOaGYHbtK53fQjg/hXdgY4WV+Ra+dvwObEOsrc34Hb6Z8WdWi0tbSWxS+v87Y5iSNwx3UDk/TFSSaF488YDfq8slnaNz5Lnyxj/rmOT/wKtX4V+FLvTPP1fUoTA80flwRuuG25BLe2cCvSK5cRiKdGo1Qir99/uN6VKdSCdRv0OE0T4d6XpO2S40xtQnH8dzKpUH2Tp+eaS/+G+j314bgaZPbbjlo7e5VUP4EHH4YrvKK4frVfm5uZ3Oj2NO1rGPpNgmh2C2emaUsEK8kCUZY+pPc1dM90Rg2OQexlFW6KwbcndmiSSsjDvdHtNQidLrQLWTepBYiPcM9wccGvHdX+H/iDTLxo4tOnuoS37uSBd+RnjIHQ179RXXh8ZUoN21RjVoRqbnlnw+8E6lpWof2vqtiVdVKwQs6hgTwWI7cdPrXpH2i7/58f/Ioq3RWNetOvPnkXTpxpx5UVPtF3/z4/wDkUVXv5rh7KRZLXy1OMt5gOOR2rTqpqf8AyDZfw/mKxNC3RRRQAUUUUAFVNT/5Bsv4fzFW6qan/wAg2X8P5igC3RRRQAUUUUAFFFFABRRRQAUUUUAFFFFABRRRQAUUUUAFFFFAGb/zNX/bl/7PWlWb/wAzV/25f+z1pUAFFFFABRRRQAUUUUAFFFFABRRRQAUUUUAFFFFAFS/+7b/9d1q3VS/+7b/9d1q3QAVh+NL6403wbqV1ZFlnSIBWXquWCk/gCTW5XPeNtbsdE8M3DX8aXH2hTDHbsf8AWkj+Q6k/1xWtFN1IpK+pFR2g9bHz31rqvBvivWtBW4ttIszfrLhzCUZwh6bgF556fgKl0D4bavr+lx6hHLb2sMrHYJywZl/vAAHivVPB/g+18J2DpG/n3U2DNOVxnH8IHYV9Bi8XQUHB+8+x5dChUclJaHHf8Jb8RLz/AFGg+SD0P2N1/wDQzTJ1+KOp28kMkflQyqVdf3CZBGCPWvVqK8j63FfDTj9x3ewb3mz5dnhktriSCdGjljYo6MOVI4Irp/h74bj8ReJAL2AzWNuhecZIBOMKMj35/A17HqvhPQ9auPP1PToppuMyAlWOPUqRn8avafptnpVoLbTraO2hBzsjXHPqfU121czUqVoq0mYQwbU7t6DrKwtNOtxBYW0VtEP4IkCj9KsUUV4rbbuz0NgooopAFFFFAFXU/wDkHS/h/MVaHQVV1P8A5B0v4fzFWh0FABRRRQAUUUUAFFFFABRRRQAUUUUAFFFFABRRRQAVU0z/AJB6fU/zNW6qaZ/yD0+p/maALdFFFABRRRQAUUUUAFFFFABRRRQAUUUUAFFFFABVSD/kJXf0T+VW6qQf8hK7+ifyoAt0UUUAFFFFABRRRQAUUUUAFFFFABRRRQAUUUUAFVLn/j/tPq38qt1Uuf8Aj/tPq38qALdFFFABRRRQAUUUUAFFFFABRRRQAUUUUAFFFFABVTU/+QbL+H8xVuqmp/8AINl/D+YoAt0UUUAFFFFABVTU/wDkGy/h/MVbqpqf/INl/D+YoAt0UUUAFFFFABRRRQAUUUUAFFFFABRRRQBl+Jrq/svC+o3OjpvvYoGeIbd3IHUDuQMkDv79K87+2s+n6Nd+GfFGp6hrdzNGstjJdeYrdDKHjI/dgYPPAx65zXd+NZ9TtvBmozaCHN8sY8vyxlgNw3ED1C7jXn2pS+F4tNtZfAstwfE0cqiBolczSuWG8T7hg55zu7+2RQB00gvPF/jPV9PXWL7T9N0lI4gNPl8p5JXGSS2CcDGMf/Xza8E3moRajrnh/VLuW+fSZo/KuZuXeKRSyhj3Ix1PrWVb6lb+B/HWuN4hc29lq3lXFtdiJzGzgEOnGcHJJx6D3FafglZdQ1jxB4kaJ4bbVZ4ltlkUqzxxJtD4PQHP6UAdhRRRQBm/8zV/25f+z1pVkzQR3HicJMu5RZ5xnH8dW/7MtP8Anl/48f8AGgC3RVT+zLT/AJ5f+PH/ABo/sy0/55f+PH/GgC3RVT+zLT/nl/48f8aP7MtP+eX/AI8f8aALdFVP7MtP+eX/AI8f8aP7MtP+eX/jx/xoAt0VU/sy0/55f+PH/Gj+zLT/AJ5f+PH/ABoAt0VU/sy0/wCeX/jx/wAaP7MtP+eX/jx/xoAt0VU/sy0/55f+PH/Gj+zLT/nl/wCPH/GgC3RVT+zLT/nl/wCPH/Gj+zLT/nl/48f8aAC/+7b/APXdat1mXdjbxCHZHjdKqn5jyDVj+zLT/nl/48f8aAJL69t9NsJry8kEcEKF3Y9hXk+m2t18TvGMmo36tFpNoQBHnjb1CD3PUn/61N8S3b+NPFUXh7w4MWsTnzZskqxHVz/sjt6n6ivS9L8NabpGmw2dtCdka4LFjlz3Y+5r0V/slO/25fgv8zkf7+dvsr8WaqIscapGoRFACqowAPQUtVP7MtP+eX/jx/xo/sy0/wCeX/jx/wAa846y3RVT+zLT/nl/48f8aP7MtP8Anl/48f8AGgC3RVT+zLT/AJ5f+PH/ABo/sy0/55f+PH/GgC3RVT+zLT/nl/48f8aP7MtP+eX/AI8f8aALdFVP7MtP+eX/AI8f8aP7MtP+eX/jx/xoAt0VU/sy0/55f+PH/Gj+zLT/AJ5f+PH/ABoAXU/+QdL+H8xVodBWZfWFvDZSSRx4YYwdx9asDTLTH+q/8eP+NAFuiqn9mWn/ADy/8eP+NH9mWn/PL/x4/wCNAFuiqn9mWn/PL/x4/wCNH9mWn/PL/wAeP+NAFuiqn9mWn/PL/wAeP+NH9mWn/PL/AMeP+NAFuiqn9mWn/PL/AMeP+NH9mWn/ADy/8eP+NAFuiqn9mWn/ADy/8eP+NH9mWn/PL/x4/wCNAFuiqn9mWn/PL/x4/wCNH9mWn/PL/wAeP+NAFuiqn9mWn/PL/wAeP+NH9mWn/PL/AMeP+NAFuqmmf8g9Pqf5mj+zLT/nl/48f8ar2NjbzWaPJHliTk7iO9AGnRVT+zLT/nl/48f8aP7MtP8Anl/48f8AGgC3RVT+zLT/AJ5f+PH/ABo/sy0/55f+PH/GgC3RVT+zLT/nl/48f8aP7MtP+eX/AI8f8aALdFVP7MtP+eX/AI8f8aP7MtP+eX/jx/xoAt0VU/sy0/55f+PH/Gj+zLT/AJ5f+PH/ABoAt0VU/sy0/wCeX/jx/wAaP7MtP+eX/jx/xoAt0VU/sy0/55f+PH/Gj+zLT/nl/wCPH/GgC3VSD/kJXf0T+VH9mWn/ADy/8eP+NV4rG3a+uI2j+VAu0bjxkUAadFVP7MtP+eX/AI8f8aP7MtP+eX/jx/xoAt0VU/sy0/55f+PH/Gj+zLT/AJ5f+PH/ABoAt0VU/sy0/wCeX/jx/wAaP7MtP+eX/jx/xoAt0VU/sy0/55f+PH/Gj+zLT/nl/wCPH/GgC3RVT+zLT/nl/wCPH/Gj+zLT/nl/48f8aALdFVP7MtP+eX/jx/xo/sy0/wCeX/jx/wAaALdFVP7MtP8Anl/48f8AGj+zLT/nl/48f8aALdVLn/j/ALT6t/Kj+zLT/nl/48f8arz2Nul5bIseFctuG484FAGnRVT+zLT/AJ5f+PH/ABo/sy0/55f+PH/GgC3RVT+zLT/nl/48f8aP7MtP+eX/AI8f8aALdFVP7MtP+eX/AI8f8aP7MtP+eX/jx/xoAt0VU/sy0/55f+PH/Gj+zLT/AJ5f+PH/ABoAt0VU/sy0/wCeX/jx/wAaP7MtP+eX/jx/xoAt0VU/sy0/55f+PH/Gj+zLT/nl/wCPH/GgC3RVT+zLT/nl/wCPH/Gj+zLT/nl/48f8aALdVNT/AOQbL+H8xR/Zlp/zy/8AHj/jVe/sbeGykkjjwwxg7ie4oA06KKKACiiigAqpqf8AyDZfw/mKt1U1P/kGy/h/MUAS+fJ/z6y/mn/xVFTUUAFFFFABRRRQAUUUUAFFFFABRRRQAUUUUAFFFFABRRRQBm/8zV/25f8As9aVZv8AzNX/AG5f+z1pUAFFFFABRRRQAUUUUAFFFFABRRRQAUUUUAFFFZniTV/7C8OXmpBQ7QR5VSeCxIA/UiqjFykorqJtJXZYv/u2/wD13WuJ+JHi17WMeHtHZmv7rCymPqit0Uf7Tfy+oryi/wBY1HU7w3V9eTTTFt24t90+w6D8K7T4TRW1/wCKbu4vw095FD5kLyNnHOGbnqeQM+5r2VgVhl7abvbp5nB9YdV+zjpc73wN4STwvo+JgrX9wA1xIOceiA+g/U109FFePUqSqSc5bs7oxUFyoKKKKgoKKKKACiiigAooooAKKKKACiiigCrqf/IOl/D+Yq0Ogqrqf/IOl/D+Yq0OgoAKKKKACiiigAooooAKKKKACiiigAooooAKKKKACqmmf8g9Pqf5mrdVNM/5B6fU/wAzQBbooooAKKKKACiiigAooooAKKKKACiiigAooooAKqQf8hK7+ifyq3VSD/kJXf0T+VAFuiiigAooooAKKKKACiiigAooooAKKKKACiiigAqpc/8AH/afVv5Vbqpc/wDH/afVv5UAW6KKKACiiigAooooAKKKKACiiigAooooAKKKKACqmp/8g2X8P5irdVNT/wCQbL+H8xQBbooooAKKKKACqmp/8g2X8P5irdVNT/5Bsv4fzFAFuiiigAooooAKKKKACiiigAooooAKKKKAKup3x03TpbsWlzeGPH7i0QPI+SBwCRnGc9egNcvd/Ei209I31Dw74gtY5JBGrzWiKpY9BnfXZVxV048T/Ey2slJfT/D6faZscq903CKcHGVHzDvncMUAa+s+L7LSNQFglpfale+X5r22nwea8aercgDP+eoqz4f8RWPiXT2utPMi+W5jmhmTZJE46qw9a5/wg7T/ABA8ZSz7TMs8EYPcIEYKPyFSeFlVPiL4zSH/AFXmWjAA5XeYiX/HPWgDsaKKKAM3/mav+3L/ANnrSrJmeSPxODDF5rfY+m7H8dW/tF3/AM+P/kUUAW6KqfaLv/nx/wDIoo+0Xf8Az4/+RRQBboqp9ou/+fH/AMiij7Rd/wDPj/5FFAFuiqn2i7/58f8AyKKPtF3/AM+P/kUUAW6KqfaLv/nx/wDIoo+0Xf8Az4/+RRQBbrnPHXiCXw54Xlu7XAuZXEMLH+FiCc474AJrY+0Xf/Pj/wCRRWH4x0qfxD4ZuLOS3EBX96krSjarL6+2M1rR5PaR59rkVObkfLueFS6nfT3hupryd7gknzTId2frXeaR8WdRtdJjtLixOoXqkqs7SY3DtkAcmuI03RNS1iRl0uxnuthAYxoSq56ZPQfjXsfgTwzd+FtLkFzaLJeXDbpGEi/KB0UH/PWvocdPDwhaaTfRHl4eNWUvddjnv7Z+JHiD/jxsTYRN3EIi4+snP5Uo+GHiHVz5niHX8nqF3POR+ZAH4V6T9ou/+fH/AMiij7Rd/wDPj/5FFeP9dlH+HFR+R3fV0/jbZ4LqPgbxDpt59nfTZpgW2pLApdH9MEdPxxXpfw38G3Ph2Ge/1QBLu5UIsQOfLTrz7k9vaunu5rhhDvtdmJVI/eA5PpVj7Rd/8+P/AJFFVWx9WtT5GrCp4aEJcyLdFVPtF3/z4/8AkUUfaLv/AJ8f/IorzzqLdFVPtF3/AM+P/kUUfaLv/nx/8iigC3RVT7Rd/wDPj/5FFH2i7/58f/IooAt0VU+0Xf8Az4/+RRR9ou/+fH/yKKALdFVPtF3/AM+P/kUUfaLv/nx/8iigC3RVT7Rd/wDPj/5FFH2i7/58f/IooAt0VU+0Xf8Az4/+RRR9ou/+fH/yKKAF1P8A5B0v4fzFWh0FZl9NcPZSCS18tTjLeYDjmrAuLvH/AB5f+RRQBboqp9ou/wDnx/8AIoo+0Xf/AD4/+RRQBboqp9ou/wDnx/8AIoo+0Xf/AD4/+RRQBboqp9ou/wDnx/8AIoo+0Xf/AD4/+RRQBboqp9ou/wDnx/8AIoo+0Xf/AD4/+RRQBboqp9ou/wDnx/8AIoo+0Xf/AD4/+RRQBboqp9ou/wDnx/8AIoo+0Xf/AD4/+RRQBboqp9ou/wDnx/8AIoo+0Xf/AD4/+RRQBbqppn/IPT6n+Zo+0Xf/AD4/+RRVexmuEs0Edr5i5OG8wDPNAGnRVT7Rd/8APj/5FFH2i7/58f8AyKKALdFVPtF3/wA+P/kUUfaLv/nx/wDIooAt0VU+0Xf/AD4/+RRR9ou/+fH/AMiigC3RVT7Rd/8APj/5FFH2i7/58f8AyKKALdFVPtF3/wA+P/kUUfaLv/nx/wDIooAt0VU+0Xf/AD4/+RRR9ou/+fH/AMiigC3RVT7Rd/8APj/5FFH2i7/58f8AyKKALdVIP+Qld/RP5UfaLv8A58f/ACKKrxTXAvrhltcsQu5fMHy8etAGnRVT7Rd/8+P/AJFFH2i7/wCfH/yKKALdFVPtF3/z4/8AkUUfaLv/AJ8f/IooAt0VU+0Xf/Pj/wCRRR9ou/8Anx/8iigC3RVT7Rd/8+P/AJFFH2i7/wCfH/yKKALdFVPtF3/z4/8AkUUfaLv/AJ8f/IooAt0VU+0Xf/Pj/wCRRR9ou/8Anx/8iigC3RVT7Rd/8+P/AJFFH2i7/wCfH/yKKALdVLn/AI/7T6t/Kj7Rd/8APj/5FFV55rg3lsWtdrAttXzB83FAGnRVT7Rd/wDPj/5FFH2i7/58f/IooAt0VU+0Xf8Az4/+RRR9ou/+fH/yKKALdFVPtF3/AM+P/kUUfaLv/nx/8iigC3RVT7Rd/wDPj/5FFH2i7/58f/IooAt0VU+0Xf8Az4/+RRR9ou/+fH/yKKALdFVPtF3/AM+P/kUUfaLv/nx/8iigC3RVT7Rd/wDPj/5FFH2i7/58f/IooAt1U1P/AJBsv4fzFH2i7/58f/IoqvfzXD2UiyWvlqcZbzAccjtQBp0UUUAFFFFABVTU/wDkGy/h/MVbqpqf/INl/D+YoAt0VDtuf+e0X/fo/wDxVFAE1FFFABRRRQBV1Oa8g0yeTS7Zbq7VP3MLuEDN7k9u9ctLoHjPWV3an4li0pDg/Z9Mt844/wCejHd/TP0FdhKrvC6xSGN2UhXAB2nHBwetcra+KL3Q72LTPGsccJkO231WHi3n/wB//nm3TrxnOMDFAFMeANYjUtB451oSnPMjl1z2+Umr2lweNNK1KGDUbmy1vTmO17jb5E8Yz94j7pGO3JPr68bPPobyXkvjG515NY8+TZHA0uwqXYp5BGV27SuMnFekeF31KTwtp7a4GW/MIMwcANn3A6HGM0AatFFFABWJ4X8OL4csbhJLk3t5d3D3FzdMmwyMx9MnAA7ZPc9626KAOZ1TwndS+IJNa8P6w+kXtxEsV1m3WdJgv3SVJGGHAznoB75veHPD0fh+zmT7RJeXV1KZ7q6lADTOe/sB2HatiigAooooAzf+Zq/7cv8A2etKs3/mav8Aty/9nrSoAKKKKACiiigAooooAKKKKACuI+KWvf2X4Z+wQti41AmPjqIx94/jwPxNdvXklr/xX3xUa4Pz6bp5yvoUQ/L/AN9Nz9K7MHBObqS2jr/kc9eT5eVbvQ7fwHoP9geFLeGRNtzOPOnz1DN0H4DA+ua6SiiuapN1JOb3ZtGKjFRQUUUVBRUv/u2//Xdat1Uv/u2//Xdat0AFFFFABRRRQAUUUUAFFFFABRRRQAUUUUAFFFFAFXU/+QdL+H8xVodBVXU/+QdL+H8xVodBQAUUUUAFFFFABRRRQAUUUUAFFFFABRRRQAUUUUAFVNM/5B6fU/zNW6qaZ/yD0+p/maALdFFFABRRRQAUUUUAFFFFABRRRQAUUUUAFFFFABVSD/kJXf0T+VW6qQf8hK7+ifyoAt0UUUAFFFFABRRRQAUUUUAFFFFABRRRQAUUUUAFVLn/AI/7T6t/KrdVLn/j/tPq38qALdFFFABRRRQAUUUUAFFFFABRRRQAUUUUAFFFFABVTU/+QbL+H8xVuqmp/wDINl/D+YoAt0UUUAFFFFABVTU/+QbL+H8xVuqmp/8AINl/D+YoAt0UUUAFFFFABRRRQAV5n/aviDX/AAlc67NqOif2Y0TSPp00BddgJAR2zkMcfn0r0LU7m5s9MnuLCzN9cRpuS3EgQyH03HpXnEt/8O11bz/EOgTaTfM29kvrSQKzZ54XKsOc5xgg0Aaumxav4e0e01Pw9FPqWi3MKTHR5n3T2gYA4ic8sAD9w+nB5NdlpuoQarpsF9ab/JmXcodSrDsQQehB4rAb4keD7eMD+2oAqjgRxucAewWmaX46XX9Qgh0LRdQubR3xLfSp5UMY9QT94+3B6UAdZRRRQAUVk+Kda/4R3wvfaqEV2t48or9CxIVQfbJFc7o1lbT3Fub/AMa3M+tBhJPb2+ooEVs5KeSMrgZ29Py4wAdxRXDyC88X+M9X09dYvtP03SUjiA0+XynklcZJLYJwMYx/9fNrwTeahFqOueH9Uu5b59Jmj8q5m5d4pFLKGPcjHU+tAHXUUUUAZv8AzNX/AG5f+z1pVm/8zV/25f8As9aVABRRRQAUUUUAFFFFABRRRQBynxF1/wDsPwpMsTbbm8zBFjqAR8zfgP1IqL4aaD/Y3hVJ5k23N8RM+RyF/gH5c/8AAjXKaqT48+Kkenod+naeSrkdCqn5z+LYX8q9bACqAowBwAO1d9b9zQjS6vV/ojmp/vKjn0WiCiiiuA6QooooAqX/AN23/wCu61bqpf8A3bf/AK7rVugAooooAKKKKACiiigAooooAKKKKACiiigAooooAq6n/wAg6X8P5irQ6Cqup/8AIOl/D+Yq0OgoAKKKKACiiigAooooAKKKKACiiigAooooAKKKKACqmmf8g9Pqf5mrdVNM/wCQen1P8zQBbooooAKKKKACiiigAooooAKKKKACiiigAooooAKqQf8AISu/on8qt1Ug/wCQld/RP5UAW6KKKACiiigAooooAKKKKACiiigAooooAKKKKACqlz/x/wBp9W/lVuqlz/x/2n1b+VAFuiiigAooooAKKKKACiiigAooooAKKKKACiiigAqpqf8AyDZfw/mKt1U1P/kGy/h/MUAW6KKKACiiigAqpqf/ACDZfw/mKt1U1P8A5Bsv4fzFAFuiiigAooooAKKKKACo57aC6j8u6hjmTOdsiBhn6GpKxPE2gXGvW0C2WsXmlT27l0ltm4Jxj5lyMj2z60AW49A0aF98Wk2Mbf3ltkB/lWhXnWpeKvFHgkD/AISJtK1e34IeKcW9wR0z5Z4bnso/+ttaB8RtC1+4gtFeayvJ1Bjguoypf/dblT0455oA6uiiigDnPH+l3Gs+A9UsrJGed41dEUZLFHV8Aep24rh9Z1TQvE3hyx07wrp8cWuvcQskFvaeW1oynLFjtwAMHv79jXrdFAHn0OpWvgjx5rr68zW1jqxiuLW68tmRmAIZCQDg5JOPQe4rR8ErLqGseIPEjRPDbarPEtssilWeOJNofB6A5/SuwooAKKKKAMmaCO48ThJl3KLPOM4/jq3/AGZaf88v/Hj/AI1B/wAzV/25f+z1pUAVP7MtP+eX/jx/xo/sy0/55f8Ajx/xq3RQBU/sy0/55f8Ajx/xo/sy0/55f+PH/GrdFAFT+zLT/nl/48f8aP7MtP8Anl/48f8AGrdFAFT+zLT/AJ5f+PH/ABrA8a3dp4d8L3F1GmLiQeVb/Ofvnv17DJ/CuqryfxhLJ4y+Itn4etWP2a0bbKy9j1kb8AMfUe9dWFpqpU97Zav5GNabjDTd6Gv8MPDEdv4eOpXsZM98dyZJGIx0/M5P5V239mWn/PL/AMeP+NWIYo7eBIYVCRxqFRR0AAwBT6yrVXVqOb6l04KEVFFT+zLT/nl/48f8aP7MtP8Anl/48f8AGrdFZFlT+zLT/nl/48f8aP7MtP8Anl/48f8AGrdFAGZd2NvEIdkeN0qqfmPINWP7MtP+eX/jx/xov/u2/wD13WrdAFT+zLT/AJ5f+PH/ABo/sy0/55f+PH/GrdFAFT+zLT/nl/48f8aP7MtP+eX/AI8f8at0UAVP7MtP+eX/AI8f8aP7MtP+eX/jx/xq3RQBU/sy0/55f+PH/Gj+zLT/AJ5f+PH/ABq3RQBU/sy0/wCeX/jx/wAaP7MtP+eX/jx/xq3RQBU/sy0/55f+PH/Gj+zLT/nl/wCPH/GrdFAFT+zLT/nl/wCPH/Gj+zLT/nl/48f8at0UAZl9YW8NlJJHHhhjB3H1qwNMtMf6r/x4/wCNLqf/ACDpfw/mKtDoKAKn9mWn/PL/AMeP+NH9mWn/ADy/8eP+NW6KAKn9mWn/ADy/8eP+NH9mWn/PL/x4/wCNW6KAKn9mWn/PL/x4/wCNH9mWn/PL/wAeP+NW6KAKn9mWn/PL/wAeP+NH9mWn/PL/AMeP+NW6KAKn9mWn/PL/AMeP+NH9mWn/ADy/8eP+NW6KAKn9mWn/ADy/8eP+NH9mWn/PL/x4/wCNW6KAKn9mWn/PL/x4/wCNH9mWn/PL/wAeP+NW6KAKn9mWn/PL/wAeP+NV7Gxt5rNHkjyxJydxHetOqmmf8g9Pqf5mgA/sy0/55f8Ajx/xo/sy0/55f+PH/GrdFAFT+zLT/nl/48f8aP7MtP8Anl/48f8AGrdFAFT+zLT/AJ5f+PH/ABo/sy0/55f+PH/GrdFAFT+zLT/nl/48f8aP7MtP+eX/AI8f8at0UAVP7MtP+eX/AI8f8aP7MtP+eX/jx/xq3RQBU/sy0/55f+PH/Gj+zLT/AJ5f+PH/ABq3RQBU/sy0/wCeX/jx/wAaP7MtP+eX/jx/xq3RQBU/sy0/55f+PH/Gq8VjbtfXEbR/KgXaNx4yK06qQf8AISu/on8qAD+zLT/nl/48f8aP7MtP+eX/AI8f8at0UAVP7MtP+eX/AI8f8aP7MtP+eX/jx/xq3RQBU/sy0/55f+PH/Gj+zLT/AJ5f+PH/ABq3RQBU/sy0/wCeX/jx/wAaP7MtP+eX/jx/xq3RQBU/sy0/55f+PH/Gj+zLT/nl/wCPH/GrdFAFT+zLT/nl/wCPH/Gj+zLT/nl/48f8at0UAVP7MtP+eX/jx/xo/sy0/wCeX/jx/wAat0UAVP7MtP8Anl/48f8AGq89jbpeWyLHhXLbhuPOBWnVS5/4/wC0+rfyoAP7MtP+eX/jx/xo/sy0/wCeX/jx/wAat0UAVP7MtP8Anl/48f8AGj+zLT/nl/48f8at0UAVP7MtP+eX/jx/xo/sy0/55f8Ajx/xq3RQBU/sy0/55f8Ajx/xo/sy0/55f+PH/GrdFAFT+zLT/nl/48f8aP7MtP8Anl/48f8AGrdFAFT+zLT/AJ5f+PH/ABo/sy0/55f+PH/GrdFAFT+zLT/nl/48f8aP7MtP+eX/AI8f8at0UAVP7MtP+eX/AI8f8ar39jbw2UkkceGGMHcT3FadVNT/AOQbL+H8xQBbooooAKKKKACqmp/8g2X8P5irdVNT/wCQbL+H8xQBL9lj/vS/9/n/AMaKmooAKKKKACiiigArmfGY81NLtjrV7pa3V4sGLFf3sxYcDd1UDkk8iumrmfGelaleLpmpaFElxf6XdCZbeRwizIQVZcngHpySO/tQBU/4RHwv4R0+XU30mS/eFd0s0q/aJcd2w3HHqB0/GulSHTtVS01AQW90NqzW07RhiARkMpIyOD+tcZfeL/Eup2M1hYeCb6K4uEMXmXTARJkYJJIAP5iur8M6Q+g+GbDTJZFlktoQjuvQt1OPbJoA1KKKKACiqmq6lBo+k3Wo3e8w2sTSuEGWIAzge9YuneM/7RureJPDuuwxzkBbia0URqD0YsHPHvQB0tFYOs+L7LSNQFglpfale+X5r22nwea8aercgDP+eoqz4f8AEVj4l09rrTzIvluY5oZk2SROOqsPWgDVooooAzf+Zq/7cv8A2etKs3/mav8Aty/9nrSoAKKKKACiiigApk00dvC807rHHGpZ3c4CgdSTT64v4rS3EXghhbkhXuEWbBx8nJ/mFrWjT9pUUO5E5ckXIr6p8WNEt4riLTxcXE6owikEYEZftyTnGfaqvwm0ZhZ3Wv3fzz3jlI2brtB+Y/i3/oNeP1678GpbhtK1KJyTbpMhjyeAxB3fyWvaxOGjh8NL2fW1zz6NV1aq5j0miiivAPTCiiigAooooAqX/wB23/67rVuql/8Adt/+u61boAKKKKACiiigAooooAKKKKACiiigAooooAKKKKAKup/8g6X8P5irQ6Cqup/8g6X8P5irQ6CgAooooAKKKKACiiigAooooAKKKKACiiigAooooAKqaZ/yD0+p/mat1U0z/kHp9T/M0AW6KKKACiiigAooooAKKKKACiiigAooooAKKKKACqkH/ISu/on8qt1Ug/5CV39E/lQBbooooAKKKKACiiigAooooAKKKKACiiigAooooAKqXP8Ax/2n1b+VW6qXP/H/AGn1b+VAFuiiigAooooAKKKKACiiigAooooAKKKKACiiigAqpqf/ACDZfw/mKt1U1P8A5Bsv4fzFAFuiiigAooooAKqan/yDZfw/mKt1U1P/AJBsv4fzFAFuiiigAooooAKKKKACuV8b3+qRf2VpWi3H2KbVLryHu9gcwoFJOAe/49uPUdVXNeLpNKa60O11QXQnmv1+xy2rBWjkHckn7uDgjnPpQBxUWmeKp5vEVtF4xvBcaMV2iRdolUpvBPPy5APPNegeDrtr/wAG6ZdSXEty8sAZ5ZvvM3fP48fhVDXvAdprerPfx6hfadJPGIrtbOXYLpBwA/rxx9K6DT7C30vTbexso/Lt7eMRxr6AD9T70AWaKKKAM/XtL/tvQL3TPO8j7VEY/M27tue+MjP51yd9feIPA66Y+oaja6ppUk8dm6i18mSIHowwxB4XvXX6vYy6lpctrbXs1hK5UrcQH5kKsG/EHGCO4JFc+vgy/v7y0l8U+IZdXhs5BLFbLaJBGzjoXAzu+n/18gFfwg7T/EDxlLPtMyzwRg9wgRgo/IVJ4WVU+IvjNIf9V5lowAOV3mIl/wAc9at6p4TupfEEmteH9YfSL24iWK6zbrOkwX7pKkjDDgZz0A983vDnh6Pw/ZzJ9okvLq6lM91dSgBpnPf2A7DtQBsUUUUAZMzyR+JwYYvNb7H03Y/jq39ou/8Anx/8iioP+Zq/7cv/AGetKgCp9ou/+fH/AMiij7Rd/wDPj/5FFW6KAKn2i7/58f8AyKKPtF3/AM+P/kUVbpskiRRtJK6oiAszMcBQOpJoAqvd3MaM8lmFVRlmaZQAPWvL/E3irUPHF8PD3hqAm3Zv3rg/63B6k9kH6/pUniPxJqHjvVv+Ef8ACwb7Fn97NyBIB1Zj2Qenf8hXeeFvC1l4W00QWo3zvgzXDD5pD/Qegr0YRjhYqpU1n0XbzZySk6z5Y/D1ZwcfwhfdGZbuUjb+8VVXk+xzwPwNd/o+njQtMjsNN00xwpk8zAliepJ7mtmiuariatZWm7m0KUIO8UVPtF3/AM+P/kUUfaLv/nx/8iirdFc5qVPtF3/z4/8AkUUfaLv/AJ8f/Ioq3RQBU+0Xf/Pj/wCRRR9ou/8Anx/8iirdFAGZdzXDCHfa7MSqR+8ByfSrH2i7/wCfH/yKKL/7tv8A9d1q3QBU+0Xf/Pj/AORRR9ou/wDnx/8AIoq3RQBU+0Xf/Pj/AORRR9ou/wDnx/8AIoq3RQBU+0Xf/Pj/AORRR9ou/wDnx/8AIoq3RQBU+0Xf/Pj/AORRR9ou/wDnx/8AIoq3RQBU+0Xf/Pj/AORRR9ou/wDnx/8AIoq3RQBU+0Xf/Pj/AORRR9ou/wDnx/8AIoq3RQBU+0Xf/Pj/AORRR9ou/wDnx/8AIoq3RQBmX01w9lIJLXy1OMt5gOOasC4u8f8AHl/5FFLqf/IOl/D+Yq0OgoAqfaLv/nx/8iij7Rd/8+P/AJFFW6KAKn2i7/58f/Ioo+0Xf/Pj/wCRRVuigCp9ou/+fH/yKKPtF3/z4/8AkUVbooAqfaLv/nx/8iij7Rd/8+P/AJFFW6KAKn2i7/58f/Ioo+0Xf/Pj/wCRRVuigCp9ou/+fH/yKKPtF3/z4/8AkUVbooAqfaLv/nx/8iij7Rd/8+P/AJFFW6KAKn2i7/58f/IoqvYzXCWaCO18xcnDeYBnmtOqmmf8g9Pqf5mgA+0Xf/Pj/wCRRR9ou/8Anx/8iirdFAFT7Rd/8+P/AJFFH2i7/wCfH/yKKt0UAVPtF3/z4/8AkUUfaLv/AJ8f/Ioq3RQBU+0Xf/Pj/wCRRR9ou/8Anx/8iirdFAFT7Rd/8+P/AJFFH2i7/wCfH/yKKt0UAVPtF3/z4/8AkUUfaLv/AJ8f/Ioq3RQBU+0Xf/Pj/wCRRR9ou/8Anx/8iirdFAFT7Rd/8+P/AJFFV4prgX1wy2uWIXcvmD5ePWtOqkH/ACErv6J/KgA+0Xf/AD4/+RRR9ou/+fH/AMiirdFAFT7Rd/8APj/5FFH2i7/58f8AyKKt0UAVPtF3/wA+P/kUUfaLv/nx/wDIoq3RQBU+0Xf/AD4/+RRR9ou/+fH/AMiirdFAFT7Rd/8APj/5FFH2i7/58f8AyKKt0UAVPtF3/wA+P/kUUfaLv/nx/wDIoq3RQBU+0Xf/AD4/+RRR9ou/+fH/AMiirdFAFT7Rd/8APj/5FFV55rg3lsWtdrAttXzB83FadVLn/j/tPq38qAD7Rd/8+P8A5FFH2i7/AOfH/wAiirdFAFT7Rd/8+P8A5FFH2i7/AOfH/wAiirdFAFT7Rd/8+P8A5FFH2i7/AOfH/wAiirdFAFT7Rd/8+P8A5FFH2i7/AOfH/wAiirdFAFT7Rd/8+P8A5FFH2i7/AOfH/wAiirdFAFT7Rd/8+P8A5FFH2i7/AOfH/wAiirdFAFT7Rd/8+P8A5FFH2i7/AOfH/wAiirdFAFT7Rd/8+P8A5FFV7+a4eykWS18tTjLeYDjkdq06qan/AMg2X8P5igC3RRRQAUUUUAFVNT/5Bsv4fzFW6qan/wAg2X8P5igCX7Zbf8/EX/fYoqaigAooooAKKKKACub8a6BL4h0uG1TWI9KjWUO0jwLIWYcrtJIKEc8g5610lY/iLw/oevW8KeIYElihcmPfM0YDEeqkZ6UAcqvhzxAiBR8SzhRgZtUJ/Myc12+lQXFtpNtDeX32+ZEAa62BPN98DI6VwWvfDzwMmg3klp5NlNHCzpOLxm2sAcZDMQRnt1rq/BE0c/gfSZYbZbVGt1xEpJC/TPr1/GgDdooooAKKKKACiiigAooooAzf+Zq/7cv/AGetKs3/AJmr/ty/9nrSoAKgvb2206zku76ZIIIxl5HOAKnrzb4yy3C6VpsSEi3eZzJg9WAG3+bVvh6Xtqqh3M6s+SDkasXxW8NSXYhL3Uak4854fk/Q5/SuZ1zX9S+Iesf2F4bDJpynMspyA4B+83ovoO/6DzOvbPhHDs8HSSmFUaS6f5wOXAAxn6HIr2K2HpYOPtYK76X/ADOCnVnXfJLY6Pw34asfDGmC1sV3O2DNMw+aVvU+3oO1a9FFeFKUpy5pPU9JJRVkFFFFSMKKKKACiiigAooooAqX/wB23/67rVuql/8Adt/+u61boAKKKKACiiigAooooAKKKKACiiigAooooAKKKKAKup/8g6X8P5irQ6Cqup/8g6X8P5irQ6CgAooooAKKKKACiiigAooooAKKKKACiiigAooooAKqaZ/yD0+p/mat1U0z/kHp9T/M0AW6KKKACiiigAooooAKKKKACiiigAooooAKKKKACqkH/ISu/on8qt1Ug/5CV39E/lQBbooooAKKKKACiiigAooooAKKKKACiiigAooooAKqXP8Ax/2n1b+VW6qXP/H/AGn1b+VAFuiiigAooooAKKKKACiiigAooooAKKKKACiiigAqpqf/ACDZfw/mKt1U1P8A5Bsv4fzFAFuiiigAooooAKqan/yDZfw/mKt1U1P/AJBsv4fzFAFuiiigAooooAKKKKACuZ8ZWnh6+/su18SWUl4bm7EFtHHIykOw5Y4ZflAHJ5x6V01c34w0bUdRj0++0MxHUdMuRPFHOcJIpGGU+nB6+1AGTqfw/wDBmiafJqX/AAjc12Lb940UE8jtgck7WkAIHcfoa7DTLi1u9KtbjTtn2SSJWhCAABMcAAdMDjHauLvNd8dapZy6fbeEEsZpUMb3U16rIgIwSAMeuRgn8a6zw7pA0Hw7Y6YJDKbaIIz4xuPUn6ZzQBpUUUUAIzKilnIVVGSScACvLzruqat4/wBD1K3vbiHRry7ltra3SRlSdI15lZeAdzE4z2A9K7bxhpuqax4ZuNP0SeCC4uMIzzMyjy8/MMqCeRx9Ca4TXLbxXaeIPCdu8GhxNBK8dikDTGNcIBhyRkDaOMUAb0gvPF/jPV9PXWL7T9N0lI4gNPl8p5JXGSS2CcDGMf8A182vBN5qEWo654f1S7lvn0maPyrmbl3ikUsoY9yMdT61k2mpw+CPG2tP4lP2W11cRXEF0kbtEZApDpkA85JPPYe4rU8ErLqGseIPEjRPDbarPEtssilWeOJNofB6A5/SgDsKKKKAM3/mav8Aty/9nrSrJmgjuPE4SVdyizz1x/HVv+zLT/nmf++j/jQBbry74jeIG1u/i8J6LELmZpl85gM4cdFHpjqT+HrWn8QfEFp4fsRY6cM6pcj5cMT5Sn+Lr1Pb86k8BeBU0mw+36xEW1G4GcMTmFT2+p7/AJV6FCKow9vP/t1d/P0OWpJ1Jeyj8zMs/g1bpJE9/q0kigAyRxRBcnuAxJ4/CvRrKyt9OsYbOyiEUEKhEQdhUf8AZlp/zzP/AH0f8aP7MtP+eZ/76P8AjXNVxFWt8bubQpQp/Ci3RVT+zLT/AJ5n/vo/40f2Zaf88z/30f8AGsDQt0VU/sy0/wCeZ/76P+NH9mWn/PM/99H/ABoAt0VU/sy0/wCeZ/76P+NH9mWn/PM/99H/ABoAt0VU/sy0/wCeZ/76P+NH9mWn/PM/99H/ABoAt0VU/sy0/wCeZ/76P+NH9mWn/PM/99H/ABoAL/7tv/13WrdZl3Y28Qh2IRulVT8x6GrH9mWn/PM/99H/ABoAt0VU/sy0/wCeZ/76P+NH9mWn/PM/99H/ABoAt0VU/sy0/wCeZ/76P+NH9mWn/PM/99H/ABoAt0VU/sy0/wCeZ/76P+NH9mWn/PM/99H/ABoAt0VU/sy0/wCeZ/76P+NH9mWn/PM/99H/ABoAt0VU/sy0/wCeZ/76P+NH9mWn/PM/99H/ABoAt0VU/sy0/wCeZ/76P+NH9mWn/PM/99H/ABoAt0VU/sy0/wCeZ/76P+NH9mWn/PM/99H/ABoAXU/+QdL+H8xVodBWZfWFvDZSSRoQwxg7ie9WBplpj/Vn/vo/40AW6Kqf2Zaf88z/AN9H/Gj+zLT/AJ5n/vo/40AW6Kqf2Zaf88z/AN9H/Gj+zLT/AJ5n/vo/40AW6Kqf2Zaf88z/AN9H/Gj+zLT/AJ5n/vo/40AW6Kqf2Zaf88z/AN9H/Gj+zLT/AJ5n/vo/40AW6Kqf2Zaf88z/AN9H/Gj+zLT/AJ5n/vo/40AW6Kqf2Zaf88z/AN9H/Gj+zLT/AJ5n/vo/40AW6Kqf2Zaf88z/AN9H/Gj+zLT/AJ5n/vo/40AW6qaZ/wAg9Pqf5mj+zLT/AJ5n/vo/41XsbG3ms0eRCWJOTuI70AadFVP7MtP+eZ/76P8AjR/Zlp/zzP8A30f8aALdFVP7MtP+eZ/76P8AjR/Zlp/zzP8A30f8aALdFVP7MtP+eZ/76P8AjR/Zlp/zzP8A30f8aALdFVP7MtP+eZ/76P8AjR/Zlp/zzP8A30f8aALdFVP7MtP+eZ/76P8AjR/Zlp/zzP8A30f8aALdFVP7MtP+eZ/76P8AjR/Zlp/zzP8A30f8aALdFVP7MtP+eZ/76P8AjR/Zlp/zzP8A30f8aALdVIP+Qld/RP5Uf2Zaf88z/wB9H/Gq8VjbtfXEbIdqBdo3HjIoA06Kqf2Zaf8APM/99H/Gj+zLT/nmf++j/jQBboqp/Zlp/wA8z/30f8aP7MtP+eZ/76P+NAFuiqn9mWn/ADzP/fR/xo/sy0/55n/vo/40AW6Kqf2Zaf8APM/99H/Gj+zLT/nmf++j/jQBboqp/Zlp/wA8z/30f8aP7MtP+eZ/76P+NAFuiqn9mWn/ADzP/fR/xo/sy0/55n/vo/40AW6Kqf2Zaf8APM/99H/Gj+zLT/nmf++j/jQBbqpc/wDH/afVv5Uf2Zaf88z/AN9H/Gq89jbpeWyKhCuW3DcecCgDToqp/Zlp/wA8z/30f8aP7MtP+eZ/76P+NAFuiqn9mWn/ADzP/fR/xo/sy0/55n/vo/40AW6Kqf2Zaf8APM/99H/Gj+zLT/nmf++j/jQBboqp/Zlp/wA8z/30f8aP7MtP+eZ/76P+NAFuiqn9mWn/ADzP/fR/xo/sy0/55n/vo/40AW6Kqf2Zaf8APM/99H/Gj+zLT/nmf++j/jQBboqp/Zlp/wA8z/30f8aP7MtP+eZ/76P+NAFuqmp/8g2X8P5ij+zLT/nmf++j/jVe/sbeGykkjQhhjB3E9xQBp0UUUAFFFFABVTU/+QbL+H8xVuqmp/8AINl/D+YoAt0VD58n/PrL+af/ABVFAE1FFFABRRRQAVxvxBuFspvD17ell0y21NJLplXOwgHYxxzgH+nfFdlWdrGraPplqf7cu7WCFx9y4YfP9FPWgDnvFXijwfe+FbyK91SwvI5YjshjmV3L4JXAXJBz37Gtnwe163g3SjqgYXRtk3hx83TjPvjGa8+t9e0G/wBTdPAfgaHUbxAH86WKOFEBP3gD78fw969P0tr99Kt21hIEvigMy2+dit6DOaALdFFFABRRRQAUUUUAFFFQXt7badZyXd9MkEEYy8jnAFNJt2QbFT/mav8Aty/9nqt4r8TW/hfRXu5sSTP8sEOeZG/wHUmuYHxO8PHxC1xm6EItvLD+T1O7PTOaw9H0+8+JfiyTVtUDJpNs+1Ys8Y6iMfzY/wD1q7qWFcXz11aK/HyOadZNctPVsv8AgHwzca1qT+LPEWZZJJN9ujj7x/v49B0Ue2ewr0+kRFjjVI1CoowqqMAD0pa569aVafM/kuyNadNU42QUUUVgaBRRRQAUUUUAFFFFABRRRQAUUUUAVL/7tv8A9d1q3VS/+7b/APXdat0AFFFFABRRRQAUUUUAFFFFABRRRQAUUUUAFFFFAFXU/wDkHS/h/MVaHQVV1P8A5B0v4fzFWh0FABRRRQAUUUUAFFFFABRRRQAUUUUAFFFFABRRRQAVU0z/AJB6fU/zNW6qaZ/yD0+p/maALdFFFABRRRQAUUUUAFFFFABRRRQAUUUUAFFFFABVSD/kJXf0T+VW6qQf8hK7+ifyoAt0UUUAFFFFABRRRQAUUUUAFFFFABRRRQAUUUUAFVLn/j/tPq38qt1Uuf8Aj/tPq38qALdFFFABRRRQAUUUUAFFFFABRRRQAUUUUAFFFFABVTU/+QbL+H8xVuqmp/8AINl/D+YoAt0UUUAFFFFABVTU/wDkGy/h/MVbqpqf/INl/D+YoAt0UUUAFFFFABRRRQAV5efAeraH4guNVt9P03xMk84kIvWK3C9ztLHZ+JyeleoUUAeZad4rsbL4iXN5rttcaCk+nRwxR30RQFlbnaRkFeevFek29xDdW6T2ssc0Mg3JJGwZWHqCODTLuxtNQg8i/tYbqHOfLmjDrn6GixsbbTbKKzsYlht4htSNeiigCeiiigCrqWo2+k6bPfXrMsEC7nKqWP4AdawrPx3Y3Gr22nXmm6rpk92SLY39r5aykdQDk+3XHUV0kvmeS/kBTLtOwOTtzjjOO1eca/Nq9v4p8P3fjW3tU02G6/cyaY7MEnbG3zN4Bxxnj369KAOs1nxfZaRqAsEtL7Ur3y/Ne20+DzXjT1bkAZ/z1FWfD/iKx8S6e11p5kXy3Mc0MybJInHVWHrXP+EHaf4geMpZ9pmWeCMHuECMFH5CpPCyqnxF8ZpD/qvMtGAByu8xEv8AjnrQB2NebfGWW4XStNiQkW7zOZMHqwA2/wA2r0mqOsaPZ67pklhqUXmQvg8HBUjoQexrfD1FSqxm9kZ1YOcHFHzPXuHwnaVvBAEowq3Mgi914P8AMtXP/wDCprZNeFqNRklh8oTFWQKSN2MZGf5V6JZWdxp1jDZ2UNrFBCoREBbgV6WOxlKrTUIanJhqE4S5pGlRVTOoelt/49RnUPS2/wDHq8Y7y3RVTOoelt/49RnUPS2/8eoAt0VUzqHpbf8Aj1GdQ9Lb/wAeoAt0VUzqHpbf+PUZ1D0tv/HqALdFVM6h6W3/AI9RnUPS2/8AHqALdFVM6h6W3/j1GdQ9Lb/x6gC3RVTOoelt/wCPUZ1D0tv/AB6gAv8A7tv/ANd1q3WZd/bMQ+aIf9au3bnr2z7VYzqHpbf+PUAW6KqZ1D0tv/HqM6h6W3/j1AFuiqmdQ9Lb/wAeozqHpbf+PUAW6KqZ1D0tv/HqM6h6W3/j1AFuiqmdQ9Lb/wAeozqHpbf+PUAW6KqZ1D0tv/HqM6h6W3/j1AFuiqmdQ9Lb/wAeozqHpbf+PUAW6KqZ1D0tv/HqM6h6W3/j1AC6n/yDpfw/mKtDoKzL43n2KTzhBs4ztznrVgHUMdLb/wAeoAt0VUzqHpbf+PUZ1D0tv/HqALdFVM6h6W3/AI9RnUPS2/8AHqALdFVM6h6W3/j1GdQ9Lb/x6gC3RVTOoelt/wCPUZ1D0tv/AB6gC3RVTOoelt/49RnUPS2/8eoAt0VUzqHpbf8Aj1GdQ9Lb/wAeoAt0VUzqHpbf+PUZ1D0tv/HqALdVNM/5B6fU/wAzRnUPS2/8eqvY/bPsaeSIdmTjdnPWgDToqpnUPS2/8eozqHpbf+PUAW6KqZ1D0tv/AB6jOoelt/49QBboqpnUPS2/8eozqHpbf+PUAW6KqZ1D0tv/AB6jOoelt/49QBboqpnUPS2/8eozqHpbf+PUAW6KqZ1D0tv/AB6jOoelt/49QBboqpnUPS2/8eozqHpbf+PUAW6qQf8AISu/on8qM6h6W3/j1V4jefbrjaId+F3ZzjpxigDToqpnUPS2/wDHqM6h6W3/AI9QBboqpnUPS2/8eozqHpbf+PUAW6KqZ1D0tv8Ax6jOoelt/wCPUAW6KqZ1D0tv/HqM6h6W3/j1AFuiqmdQ9Lb/AMeozqHpbf8Aj1AFuiqmdQ9Lb/x6jOoelt/49QBboqpnUPS2/wDHqM6h6W3/AI9QBbqpc/8AH/afVv5UZ1D0tv8Ax6q8/wBs+2W28Q78tsxnHTnNAGnRVTOoelt/49RnUPS2/wDHqALdFVM6h6W3/j1GdQ9Lb/x6gC3RVTOoelt/49RnUPS2/wDHqALdFVM6h6W3/j1GdQ9Lb/x6gC3RVTOoelt/49RnUPS2/wDHqALdFVM6h6W3/j1GdQ9Lb/x6gC3RVTOoelt/49RnUPS2/wDHqALdVNT/AOQbL+H8xRnUPS2/8eqvfm8+xSecIdnGduc9RQBp0UUUAFFFFABVTU/+QbL+H8xVuqmp/wDINl/D+YoAt0UUUAFFFFABRRRQAUUUUAFFFFABRRRQBS1exl1LS5bW2vZrCVypW4gPzIVYN+IOMEdwSK53/hC9R1C+spfE/iOTVrezlEyWq2iQI7joX2k7sen+Jz19FAHM6p4TupfEEmteH9YfSL24iWK6zbrOkwX7pKkjDDgZz0A983vDnh6Pw/ZzJ9okvLq6lM91dSgBpnPf2A7DtWxRQAUUUUAZv/M1f9uX/s9aVZv/ADNX/bl/7PWlQAUUUUAFFFFABRRRQAUUUUAFFFFABRRRQAUUUUAVL/7tv/13WrdVL/7tv/13WrdABRRRQAUUUUAFFFFABRRRQAUUUUAFFFFABRRRQBV1P/kHS/h/MVaHQVV1P/kHS/h/MVaHQUAFFFFABRRRQAUUUUAFFFFABRRRQAUUUUAFFFFABVTTP+Qen1P8zVuqmmf8g9Pqf5mgC3RRRQAUUUUAFFFFABRRRQAUUUUAFFFFABRRRQAVUg/5CV39E/lVuqkH/ISu/on8qALdFFFABRRRQAUUUUAFFFFABRRRQAUUUUAFFFFABVS5/wCP+0+rfyq3VS5/4/7T6t/KgC3RRRQAUUUUAFFFFABRRRQAUUUUAFFFFABRRRQAVU1P/kGy/h/MVbqpqf8AyDZfw/mKALdFFFABRRRQAVU1P/kGy/h/MVbqpqf/ACDZfw/mKAJdtz/z2i/79H/4qipqKACiiigAooooAKKKKACiiigAooooAKKq6lYrqemz2bzzwLMu0yW77HUex7V55q2gad4Z8eeGY/CqyW11dTn7Vbxyu4eEdXcEk9C3J9+uKAPTaK4BNOs/HHjrXYdb8y50/ShFb29qZGRQ7Al3IUjnIwD/AICrfgSOTStb8ReGxLJLZ6ZNC9r5jljGkqFtgz2GP1NAHaUUUUAZv/M1f9uX/s9aVZbyJH4ozIyqPseMscfx1f8AtVv/AM94/wDvsUAS0VF9qt/+e8f/AH2KPtVv/wA94/8AvsUAS0VF9qt/+e8f/fYo+1W//PeP/vsUAS0VF9qt/wDnvH/32KPtVv8A894/++xQBLRUX2q3/wCe8f8A32KPtVv/AM94/wDvsUAS0VF9qt/+e8f/AH2KPtVv/wA94/8AvsUAS0VF9qt/+e8f/fYo+1W//PeP/vsUAS0VF9qt/wDnvH/32KPtVv8A894/++xQBDf/AHbf/rutW6o308LCDbKhxMpOGHAqz9qt/wDnvH/32KAJaKi+1W//AD3j/wC+xR9qt/8AnvH/AN9igCWiovtVv/z3j/77FH2q3/57x/8AfYoAloqL7Vb/APPeP/vsUfarf/nvH/32KAJaKi+1W/8Az3j/AO+xR9qt/wDnvH/32KAJaKi+1W//AD3j/wC+xR9qt/8AnvH/AN9igCWiovtVv/z3j/77FH2q3/57x/8AfYoAloqL7Vb/APPeP/vsUfarf/nvH/32KAItT/5B0v4fzFWh0FUdRnhewkVJUYnGAGB7irIuoMf6+P8A77FAEtFRfarf/nvH/wB9ij7Vb/8APeP/AL7FAEtFRfarf/nvH/32KPtVv/z3j/77FAEtFRfarf8A57x/99ij7Vb/APPeP/vsUAS0VF9qt/8AnvH/AN9ij7Vb/wDPeP8A77FAEtFRfarf/nvH/wB9ij7Vb/8APeP/AL7FAEtFRfarf/nvH/32KPtVv/z3j/77FAEtFRfarf8A57x/99ij7Vb/APPeP/vsUAS1U0z/AJB6fU/zNTfarf8A57x/99iq2nTwpYoryopyeCwHc0AXqKi+1W//AD3j/wC+xR9qt/8AnvH/AN9igCWiovtVv/z3j/77FH2q3/57x/8AfYoAloqL7Vb/APPeP/vsUfarf/nvH/32KAJaKi+1W/8Az3j/AO+xR9qt/wDnvH/32KAJaKi+1W//AD3j/wC+xR9qt/8AnvH/AN9igCWiovtVv/z3j/77FH2q3/57x/8AfYoAloqL7Vb/APPeP/vsUfarf/nvH/32KAJaqQf8hK7+ifyqb7Vb/wDPeP8A77FVoZ4RqFyxlQKwTB3DnigC9RUX2q3/AOe8f/fYo+1W/wDz3j/77FAEtFRfarf/AJ7x/wDfYo+1W/8Az3j/AO+xQBLRUX2q3/57x/8AfYo+1W//AD3j/wC+xQBLRUX2q3/57x/99ij7Vb/894/++xQBLRUX2q3/AOe8f/fYo+1W/wDz3j/77FAEtFRfarf/AJ7x/wDfYo+1W/8Az3j/AO+xQBLRUX2q3/57x/8AfYo+1W//AD3j/wC+xQBLVS5/4/7T6t/KpvtVv/z3j/77FVrieE31qwlQhS2SGHHFAF6iovtVv/z3j/77FH2q3/57x/8AfYoAloqL7Vb/APPeP/vsUfarf/nvH/32KAJaKi+1W/8Az3j/AO+xR9qt/wDnvH/32KAJaKi+1W//AD3j/wC+xR9qt/8AnvH/AN9igCWiovtVv/z3j/77FH2q3/57x/8AfYoAloqL7Vb/APPeP/vsUfarf/nvH/32KAJaKi+1W/8Az3j/AO+xR9qt/wDnvH/32KAJaqan/wAg2X8P5ipvtVv/AM94/wDvsVW1GeF9PkVJUZjjADA9xQBeooooAKKKKACqmp/8g2X8P5irdVNT/wCQbL+H8xQBbooooAKKKKACiiigAooooAKKKKACiiigDP17UZ9J0K6vbOylv54k/d20KlmkYkADABOOcn2BrhPCmqPZ30mp63ofiK51u+wk1wdNcRwJniNOeEHH1xmvS6KAOFJvfB/jbV706TfajpusCOVXsIPNeKVQQysoIODknPuPetDwbYXzX2s6/qls9nPq86FLaT78cUa7U3ejEE8V1VFABRRRQBlvGkvijEiK4+x5wwz/AB1e+yW//PCP/vgVT/5mr/ty/wDZ60qAIfslv/zwj/74FH2S3/54R/8AfAqaigCH7Jb/APPCP/vgUfZLf/nhH/3wKmooAh+yW/8Azwj/AO+BR9kt/wDnhH/3wKmooAh+yW//ADwj/wC+BR9kt/8AnhH/AN8CpqKAIfslv/zwj/74FH2S3/54R/8AfAqaigCH7Jb/APPCP/vgUfZLf/nhH/3wKmooAh+yW/8Azwj/AO+BR9kt/wDnhH/3wKmooAoXtvCgg2RIuZlBwo5FWfslv/zwj/74FRX/AN23/wCu61boAh+yW/8Azwj/AO+BR9kt/wDnhH/3wKmooAh+yW//ADwj/wC+BR9kt/8AnhH/AN8CpqKAIfslv/zwj/74FH2S3/54R/8AfAqaigCH7Jb/APPCP/vgUfZLf/nhH/3wKmooAh+yW/8Azwj/AO+BR9kt/wDnhH/3wKmooAh+yW//ADwj/wC+BR9kt/8AnhH/AN8CpqKAIfslv/zwj/74FH2S3/54R/8AfAqaigChqFtClhIyRIrDGCFA7irItLfH+oj/AO+BUep/8g6X8P5irQ6CgCH7Jb/88I/++BR9kt/+eEf/AHwKmooAh+yW/wDzwj/74FH2S3/54R/98CpqKAIfslv/AM8I/wDvgUfZLf8A54R/98CpqKAIfslv/wA8I/8AvgUfZLf/AJ4R/wDfAqaigCH7Jb/88I/++BR9kt/+eEf/AHwKmooAh+yW/wDzwj/74FH2S3/54R/98CpqKAIfslv/AM8I/wDvgUfZLf8A54R/98CpqKAIfslv/wA8I/8AvgVW0+3hksUZ4kZsnkqD3NX6qaZ/yD0+p/maAJfslv8A88I/++BR9kt/+eEf/fAqaigCH7Jb/wDPCP8A74FH2S3/AOeEf/fAqaigCH7Jb/8APCP/AL4FH2S3/wCeEf8A3wKmooAh+yW//PCP/vgUfZLf/nhH/wB8CpqKAIfslv8A88I/++BR9kt/+eEf/fAqaigCH7Jb/wDPCP8A74FH2S3/AOeEf/fAqaigCH7Jb/8APCP/AL4FH2S3/wCeEf8A3wKmooAh+yW//PCP/vgVWht4TqFypiQqoTA2jjir9VIP+Qld/RP5UAS/ZLf/AJ4R/wDfAo+yW/8Azwj/AO+BU1FAEP2S3/54R/8AfAo+yW//ADwj/wC+BU1FAEP2S3/54R/98Cj7Jb/88I/++BU1FAEP2S3/AOeEf/fAo+yW/wDzwj/74FTUUAQ/ZLf/AJ4R/wDfAo+yW/8Azwj/AO+BU1FAEP2S3/54R/8AfAo+yW//ADwj/wC+BU1FAEP2S3/54R/98Cj7Jb/88I/++BU1FAEP2S3/AOeEf/fAqtcW8K3tqqxIAxbICjnir9VLn/j/ALT6t/KgCX7Jb/8APCP/AL4FH2S3/wCeEf8A3wKmooAh+yW//PCP/vgUfZLf/nhH/wB8CpqKAIfslv8A88I/++BR9kt/+eEf/fAqaigCH7Jb/wDPCP8A74FH2S3/AOeEf/fAqaigCH7Jb/8APCP/AL4FH2S3/wCeEf8A3wKmooAh+yW//PCP/vgUfZLf/nhH/wB8CpqKAIfslv8A88I/++BR9kt/+eEf/fAqaigCH7Jb/wDPCP8A74FVtRt4Y7CRkiRWGMEKB3FX6qan/wAg2X8P5igC3RRRQAUUUUAFVNT/AOQbL+H8xVuqmp/8g2X8P5igC3RUP2WP+9L/AN/n/wAaKAJqKKKACiiigAooooAKKKKACiiigAoqK5uYrO0mublxHDCjSSOeiqBkn8hXOaB42TxB4juNNh064toUtRcwzz/K0yEgZ2EZAOeDnkc96AOoormtW8V3UGuSaPoGjSavfQRCa4X7QsCRA/dG5upPp/8AXxa8MeJV8R2lwZLSWxvLOYw3VrKcmN/Y9x78UAbdFFFAGb/zNX/bl/7PWlWb/wAzV/25f+z1pUAFFFFABRRRQAUUUUAFFFFABRRRQAUUUUAFFFFAFS/+7b/9d1q3VS/+7b/9d1q3QAUUUUAFFFFABRRRQAUUUUAFFFFABRRRQAUUUUAVdT/5B0v4fzFWh0FVdT/5B0v4fzFWh0FABRRRQAUUUUAFFFFABRRRQAUUUUAFFFFABRRRQAVU0z/kHp9T/M1bqppn/IPT6n+ZoAt0UUUAFFFFABRRRQAUUUUAFFFFABRRRQAUUUUAFVIP+Qld/RP5VbqpB/yErv6J/KgC3RRRQAUUUUAFFFFABRRRQAUUUUAFFFFABRRRQAVUuf8Aj/tPq38qt1Uuf+P+0+rfyoAt0UUUAFFFFABRRRQAUUUUAFFFFABRRRQAUUUUAFVNT/5Bsv4fzFW6qan/AMg2X8P5igC3RRRQAUUUUAFVNT/5Bsv4fzFW6qan/wAg2X8P5igC3RRRQAUUUUAFFFFABRRRQAUUUUAFFFFADXRJY2jkVXRgVZWGQQexFcdaf8lp1D/sDp/6MFdddQfarOa3EssHmxsnmwttdMjG5T2I6g1ykXw6gh1T+0U8R6/9r2BGlN0hZlBztPycjPagCHwgzD4geM47hszmeBgD1KbG2/gBipfC2x/iL4zlhA8oyWibgMAusR3D65NaWseD7PVtUXUo7y/0y+8vynuNPn8ppU7K3BBx9M9PQVe0PQrLw9pv2PT1fYzmSSSRtzyuerMe5PH5UAaNFFFAGTN53/CTj7Ps3fY+d+cY3+1W86h6W3/j1Qf8zV/25f8As9aVAFTOoelt/wCPUZ1D0tv/AB6rdFAFTOoelt/49RnUPS2/8eq3RQBUzqHpbf8Aj1GdQ9Lb/wAeq3RQBUzqHpbf+PUZ1D0tv/Hqt0UAVM6h6W3/AI9RnUPS2/8AHqt0UAVM6h6W3/j1GdQ9Lb/x6rdFAFTOoelt/wCPUZ1D0tv/AB6rdFAGZd/bMQ+aIf8AWrt2569s+1WM6h6W3/j1F/8Adt/+u61boAqZ1D0tv/HqM6h6W3/j1W6KAKmdQ9Lb/wAeozqHpbf+PVbooAqZ1D0tv/HqM6h6W3/j1W6KAKmdQ9Lb/wAeozqHpbf+PVbooAqZ1D0tv/HqM6h6W3/j1W6KAKmdQ9Lb/wAeozqHpbf+PVbooAqZ1D0tv/HqM6h6W3/j1W6KAMy+N59ik84QbOM7c561YB1DHS2/8epdT/5B0v4fzFWh0FAFTOoelt/49RnUPS2/8eq3RQBUzqHpbf8Aj1GdQ9Lb/wAeq3RQBUzqHpbf+PUZ1D0tv/Hqt0UAVM6h6W3/AI9RnUPS2/8AHqt0UAVM6h6W3/j1GdQ9Lb/x6rdFAFTOoelt/wCPUZ1D0tv/AB6rdFAFTOoelt/49RnUPS2/8eq3RQBUzqHpbf8Aj1V7H7Z9jTyRDsycbs561p1U0z/kHp9T/M0AGdQ9Lb/x6jOoelt/49VuigCpnUPS2/8AHqM6h6W3/j1W6KAKmdQ9Lb/x6jOoelt/49VuigCpnUPS2/8AHqM6h6W3/j1W6KAKmdQ9Lb/x6jOoelt/49VuigCpnUPS2/8AHqM6h6W3/j1W6KAKmdQ9Lb/x6jOoelt/49VuigCpnUPS2/8AHqrxG8+3XG0Q78LuznHTjFadVIP+Qld/RP5UAGdQ9Lb/AMeozqHpbf8Aj1W6KAKmdQ9Lb/x6jOoelt/49VuigCpnUPS2/wDHqM6h6W3/AI9VuigCpnUPS2/8eozqHpbf+PVbooAqZ1D0tv8Ax6jOoelt/wCPVbooAqZ1D0tv/HqM6h6W3/j1W6KAKmdQ9Lb/AMeozqHpbf8Aj1W6KAKmdQ9Lb/x6q8/2z7ZbbxDvy2zGcdOc1p1Uuf8Aj/tPq38qADOoelt/49RnUPS2/wDHqt0UAVM6h6W3/j1GdQ9Lb/x6rdFAFTOoelt/49RnUPS2/wDHqt0UAVM6h6W3/j1GdQ9Lb/x6rdFAFTOoelt/49RnUPS2/wDHqt0UAVM6h6W3/j1GdQ9Lb/x6rdFAFTOoelt/49RnUPS2/wDHqt0UAVM6h6W3/j1V783n2KTzhDs4ztznqK06qan/AMg2X8P5igC3RRRQAUUUUAFVNT/5Bsv4fzFW6qan/wAg2X8P5igC3RUP2y2/5+Iv++xRQBNRRRQAUUUUAFFFFABRRRQAUUUUAFFFFABRRRQAUUUUAZv/ADNX/bl/7PWlWb/zNX/bl/7PWlQAUUUUAFFFFABRRRQAUUUUAFFFFABRRRQAUUUUAVL/AO7b/wDXdat1Uv8A7tv/ANd1q3QAUUUUAFFFFABRRRQAUUUUAFFFFABRRRQAUUUUAVdT/wCQdL+H8xVodBVXU/8AkHS/h/MVaHQUAFFFFABRRRQAUUUUAFFFFABRRRQAUUUUAFFFFABVTTP+Qen1P8zVuqmmf8g9Pqf5mgC3RRRQAUUUUAFFFFABRRRQAUUUUAFFFFABRRRQAVUg/wCQld/RP5VbqpB/yErv6J/KgC3RRRQAUUUUAFFFFABRRRQAUUUUAFFFFABRRRQAVUuf+P8AtPq38qt1Uuf+P+0+rfyoAt0UUUAFFFFABRRRQAUUUUAFFFFABRRRQAUUUUAFVNT/AOQbL+H8xVuqmp/8g2X8P5igC3RRRQAUUUUAFVNT/wCQbL+H8xVuqmp/8g2X8P5igC3RRRQAUUUUAFFFFABRRRQAUUUUAFFFFABRRRQBwCadZ+OPHWuw635lzp+lCK3t7UyMih2BLuQpHORgH/AVb8CRyaVrfiLw2JZJbPTJoXtfMcsY0lQtsGewx+pqEm98H+NtXvTpN9qOm6wI5Vewg814pVBDKygg4OSc+4960PBthfNfazr+qWz2c+rzoUtpPvxxRrtTd6MQTxQB1VFFFAGTLPFB4nDTypEps8AuwAzv96u/2lY/8/lv/wB/V/xqWa2guMfaIY5dvTegbH51F/Ztj/z52/8A36X/AAoAP7Ssf+fy3/7+r/jR/aVj/wA/lv8A9/V/xo/s2x/587f/AL9L/hR/Ztj/AM+dv/36X/CgA/tKx/5/Lf8A7+r/AI0f2lY/8/lv/wB/V/xo/s2x/wCfO3/79L/hR/Ztj/z52/8A36X/AAoAP7Ssf+fy3/7+r/jR/aVj/wA/lv8A9/V/xo/s2x/587f/AL9L/hR/Ztj/AM+dv/36X/CgA/tKx/5/Lf8A7+r/AI0f2lY/8/lv/wB/V/xo/s2x/wCfO3/79L/hR/Ztj/z52/8A36X/AAoAP7Ssf+fy3/7+r/jR/aVj/wA/lv8A9/V/xo/s2x/587f/AL9L/hR/Ztj/AM+dv/36X/CgA/tKx/5/Lf8A7+r/AI0f2lY/8/lv/wB/V/xo/s2x/wCfO3/79L/hR/Ztj/z52/8A36X/AAoAP7Ssf+fy3/7+r/jR/aVj/wA/lv8A9/V/xo/s2x/587f/AL9L/hR/Ztj/AM+dv/36X/CgCte39m4g23cDYmUnEg4FWf7Ssf8An8t/+/q/40f2bY/8+dv/AN+l/wAKP7Nsf+fO3/79L/hQAf2lY/8AP5b/APf1f8aP7Ssf+fy3/wC/q/40f2bY/wDPnb/9+l/wo/s2x/587f8A79L/AIUAH9pWP/P5b/8Af1f8aP7Ssf8An8t/+/q/40f2bY/8+dv/AN+l/wAKP7Nsf+fO3/79L/hQAf2lY/8AP5b/APf1f8aP7Ssf+fy3/wC/q/40f2bY/wDPnb/9+l/wo/s2x/587f8A79L/AIUAH9pWP/P5b/8Af1f8aP7Ssf8An8t/+/q/40f2bY/8+dv/AN+l/wAKP7Nsf+fO3/79L/hQAf2lY/8AP5b/APf1f8aP7Ssf+fy3/wC/q/40f2bY/wDPnb/9+l/wo/s2x/587f8A79L/AIUAH9pWP/P5b/8Af1f8aP7Ssf8An8t/+/q/40f2bY/8+dv/AN+l/wAKP7Nsf+fO3/79L/hQAf2lY/8AP5b/APf1f8aP7Ssf+fy3/wC/q/40f2bY/wDPnb/9+l/wo/s2x/587f8A79L/AIUAVtQv7N7CRUu4GY4wBICeoqyNSscf8flv/wB/V/xo/s2x/wCfO3/79L/hR/Ztj/z52/8A36X/AAoAP7Ssf+fy3/7+r/jR/aVj/wA/lv8A9/V/xo/s2x/587f/AL9L/hR/Ztj/AM+dv/36X/CgA/tKx/5/Lf8A7+r/AI0f2lY/8/lv/wB/V/xo/s2x/wCfO3/79L/hR/Ztj/z52/8A36X/AAoAP7Ssf+fy3/7+r/jR/aVj/wA/lv8A9/V/xo/s2x/587f/AL9L/hR/Ztj/AM+dv/36X/CgA/tKx/5/Lf8A7+r/AI0f2lY/8/lv/wB/V/xo/s2x/wCfO3/79L/hR/Ztj/z52/8A36X/AAoAP7Ssf+fy3/7+r/jR/aVj/wA/lv8A9/V/xo/s2x/587f/AL9L/hR/Ztj/AM+dv/36X/CgA/tKx/5/Lf8A7+r/AI0f2lY/8/lv/wB/V/xo/s2x/wCfO3/79L/hR/Ztj/z52/8A36X/AAoAP7Ssf+fy3/7+r/jR/aVj/wA/lv8A9/V/xo/s2x/587f/AL9L/hR/Ztj/AM+dv/36X/CgA/tKx/5/Lf8A7+r/AI1W06/s0sUV7uBTk8GQDuas/wBm2P8Az52//fpf8KP7Nsf+fO3/AO/S/wCFAB/aVj/z+W//AH9X/Gj+0rH/AJ/Lf/v6v+NH9m2P/Pnb/wDfpf8ACj+zbH/nzt/+/S/4UAH9pWP/AD+W/wD39X/Gj+0rH/n8t/8Av6v+NH9m2P8Az52//fpf8KP7Nsf+fO3/AO/S/wCFAB/aVj/z+W//AH9X/Gj+0rH/AJ/Lf/v6v+NH9m2P/Pnb/wDfpf8ACj+zbH/nzt/+/S/4UAH9pWP/AD+W/wD39X/Gj+0rH/n8t/8Av6v+NH9m2P8Az52//fpf8KP7Nsf+fO3/AO/S/wCFAB/aVj/z+W//AH9X/Gj+0rH/AJ/Lf/v6v+NH9m2P/Pnb/wDfpf8ACj+zbH/nzt/+/S/4UAH9pWP/AD+W/wD39X/Gj+0rH/n8t/8Av6v+NH9m2P8Az52//fpf8KP7Nsf+fO3/AO/S/wCFAB/aVj/z+W//AH9X/Gj+0rH/AJ/Lf/v6v+NH9m2P/Pnb/wDfpf8ACj+zbH/nzt/+/S/4UAH9pWP/AD+W/wD39X/Gq0N/ZjULljdwBWCYJkGDxVn+zbH/AJ87f/v0v+FH9m2P/Pnb/wDfpf8ACgA/tKx/5/Lf/v6v+NH9pWP/AD+W/wD39X/Gj+zbH/nzt/8Av0v+FH9m2P8Az52//fpf8KAD+0rH/n8t/wDv6v8AjR/aVj/z+W//AH9X/Gj+zbH/AJ87f/v0v+FH9m2P/Pnb/wDfpf8ACgA/tKx/5/Lf/v6v+NH9pWP/AD+W/wD39X/Gj+zbH/nzt/8Av0v+FH9m2P8Az52//fpf8KAD+0rH/n8t/wDv6v8AjR/aVj/z+W//AH9X/Gj+zbH/AJ87f/v0v+FH9m2P/Pnb/wDfpf8ACgA/tKx/5/Lf/v6v+NH9pWP/AD+W/wD39X/Gj+zbH/nzt/8Av0v+FH9m2P8Az52//fpf8KAD+0rH/n8t/wDv6v8AjR/aVj/z+W//AH9X/Gj+zbH/AJ87f/v0v+FH9m2P/Pnb/wDfpf8ACgA/tKx/5/Lf/v6v+NH9pWP/AD+W/wD39X/Gj+zbH/nzt/8Av0v+FH9m2P8Az52//fpf8KAD+0rH/n8t/wDv6v8AjVa4v7Nr21YXcBClskSDjirP9m2P/Pnb/wDfpf8ACj+zbH/nzt/+/S/4UAH9pWP/AD+W/wD39X/Gj+0rH/n8t/8Av6v+NH9m2P8Az52//fpf8KP7Nsf+fO3/AO/S/wCFAB/aVj/z+W//AH9X/Gj+0rH/AJ/Lf/v6v+NH9m2P/Pnb/wDfpf8ACj+zbH/nzt/+/S/4UAH9pWP/AD+W/wD39X/Gj+0rH/n8t/8Av6v+NH9m2P8Az52//fpf8KP7Nsf+fO3/AO/S/wCFAB/aVj/z+W//AH9X/Gj+0rH/AJ/Lf/v6v+NH9m2P/Pnb/wDfpf8ACj+zbH/nzt/+/S/4UAH9pWP/AD+W/wD39X/Gj+0rH/n8t/8Av6v+NH9m2P8Az52//fpf8KP7Nsf+fO3/AO/S/wCFAB/aVj/z+W//AH9X/Gj+0rH/AJ/Lf/v6v+NH9m2P/Pnb/wDfpf8ACj+zbH/nzt/+/S/4UAH9pWP/AD+W/wD39X/Gj+0rH/n8t/8Av6v+NH9m2P8Az52//fpf8KP7Nsf+fO3/AO/S/wCFAB/aVj/z+W//AH9X/Gq2oX1pLYyJHdQuxxhVkBJ5FWf7Nsf+fO3/AO/S/wCFKthZowZLSBWU5BEYBBoAsUUUUAFFFFABVTU/+QbL+H8xVuqmp/8AINl/D+YoAt0UUUAFFFFABRRRQAUUUUAFFFFABRRRQAUUUUAFFFFABRRRQAUVQj13SJb77HFqtk91nHkLcIXz/u5zV+gAooooAKKKKACiiigAooooAKKKKACiiigAooqrf6rp+loj6nfW1mrnCG4mWMMfbJGaALVFRwXEN1As1rLHNE/KyRsGVvoRVSPXdIlvvscWq2T3WceQtwhfP+7nNAF+iiigAooooAKKKKACiiigAooooAKKKKACiiigAoqtFqVjPfS2UF7byXUIzLAkqmRB7qDkdR19aivNb0rTplh1DU7O1lb7qT3CIx/An3oAvUUisrqGQhlYZBByCKWgAooooAKKKKACiiigAooooAKKKKACiiigAoqhNrukW94LSfVbKK5JwIXuEDk/7pOamvdRstNhEuo3lvaRk4Dzyqg/MmgCzRUNpeWt/biexuYbmFukkMgdT+I4qagAooooAKKKKACiiigAooooAKKKKACiiigAoqjea3pWnTLDqGp2drK33UnuERj+BPvVprmBbb7Q00Yg2hvNLjbg9DnpigCSiqdjrGmaoWGmajaXhT7wt51k2/XBNXKACiiigAooooAKKKKACiiigAooooAKKKKACioLS+tNQh86wuobmLcV3wyB1yOoyO9V7rXdJsboW17qllbznAEUtwiMc9OCc96AL9FRz3ENrA011LHDEnLSSMFVfqTUNhqun6ojvpl9bXiocObeZZAp98E4oAtUUUUAFFFFABRRRQAUUUUAFFFFABRRRQAUVAl9aSXslnHdQvdRKGkgWQF0B6Er1AqK+1jTNLKjU9RtLMv90XE6x7vpkigC5RTIpY54lkgkWSNuVdGyD+Iqnba7pN5efZLTVLKe55PkxXCM/HX5Qc0AX6KKKACqmp/8g2X8P5irdVNT/wCQbL+H8xQBL58n/PrL+af/ABVFTUUAFFFFABRRRQAUUUUAFFFFABRRRQAUUUUAFFFFABXN/EHUZdL8AatdW7MknkiNWU4K72CZB/4FXSVl+JdGHiDw1faWX8s3MRVH7Kw5Un2yBn2oA4zxP4U0fTvhabixsYILyyginiu44wsu8FcsWHJzz1/oK7/Trh7vS7W5kCh5oUkYL0BKg8Vw1zZeLtd8Pw+GdQ0mGxhZUiu9UF2sgZEIyUQfNubHfjr9R30USQQpFEu2ONQqqOwAwBQA+iiigAooooAKKKKACiiigAooooAKKKKACsrUtE0Se6fVtWsbWeWGDY01wgcJGu5uAcgfebkDNatcJ42tPEeravb2Vvo0l9oEYEk8cV5HC10/UKxY5CDjjHP5YAOd024n0X4T+KdR05ZbawuruQ6ah4ZYnZYww7jg+v8ADn3Ot4n8KaPp3wtNxY2MEF5ZQRTxXccYWXeCuWLDk556/wBBW5LZaj4p8K6lo2p6H/YSNAsdt/pMcqkjkcJ90KVXjuDxWTc2Xi7XfD8PhnUNJhsYWVIrvVBdrIGRCMlEHzbmx346/UAHc6dcPd6Xa3MgUPNCkjBegJUHirFMiiSCFIol2xxqFVR2AGAKfQAUUUUAFFFFABRRRQAUUUUAFFFFABWR4m1z+wNFe6jj8+6kdYLS3zzNMxwqj+f0BrXrD8ReFbfxHcWM81/f2UtiztC9nKqHLAAk5U8gDj6mgDkfBukSaL8TLu3upWnvJNJWe6mY8vK8oLH6ZOB7AVN4B0bSvE/hu81fWdPgvbnU7uZpJJ4wzqucBVbqoGOMYx+FS2HgS/s/iGdQbVtWlsltkYXMl2rPK4cEwuMZKYGcY79aXTLLxT4PhvdL0fRYtVtJLh5bO5a8WMRK56OpwTjrx15oAvfDCeV/BUdvK+8WdxLbIx6lVbjP54+gFdhWL4T0E+G/Ddvp8komnBaSeUdHkY5Y/TnH0FbVABRRRQAUUUUAFFFFABRRRQAUUUUAFY/i7UpNI8H6pfQZEsNuxjI/hYjAP4Eg1sVn69pSa34fvtNkO0XULRhuflYjg/gcGgDhNFv/AA9onhu2/tXw5fm3YI1zql5YBkkkcjMjFiXwWPGR6e1aEdra+Ifi5q0Wq28d3FpVnDHBDOgdFZ8OWweM84z/AIVTubDxlq/hGPwtd6Nb2wMccE2qG7R0KIy/MI+WJIHfHOenGNK60TV/Dviw6x4csBqltcWaWs9q1ysTqyYCuC3GMADH1oAZ4YtotG+JXiHSdOiSCxkghulhQYWNyMHaOgBznH0xgCu4rmPC+j6gural4g16GO2v9R2IlrHJvFtEgwFLdCT1OOOOPSunoAKKKKACiiigAooooAKKKKACiiigAooooA8kutR07wzr3ie317Rk1z7VM12txEFl8tHO1YpSf9UFPAPvwOlP/s8QaL4F8NXVzHeWl7cyXE3lNmN1X5xHnuvz459PpW7o9l4h8LLqVlH4fTWUurqScXiXccfm7+cSB+cj157/AI0ofAur6d4c0q4svIbVtOv3vVtBIVi2P96EE+wHPA6/WgC3rumWPh/x34WvdGs7eye5mktJ0gjCLIhUYyBgZHY/T0Fd7XHQWGt+I/FGn6lr2lppNnpW94bc3KzPPKwxuJXgBe3fP147GgAooooAKKKKACiiigAooooAKKKKACs3XNFj16zjtLm4nithKHmSFyhnUA/uyRyFJIJxzxWlWfrN7qFjZpJpOlNqkxkCtCtwkO1cH5stx1AGPegDk/h1JHpvhPW5I48RWupXTLGvHyqBwPyqDwZ4W0rxB8PVudWtIbm91QyyzXcsYaQOXYAhjyMYHf19aseBrPXtOW907WfD729re3U1w1z9siYIHA+Uqpz2xkVDptl4w8M6HN4d0zSor6KNpFs9TN4qCNGJI3ofmyMk8fQdKAMDQbo+JIfAmkaqPPtvKuJ5o3+ZZvKLpGGB642d/Wulu9MtNA+Kvh+TSLeK0TVILmG5ihTYrCNA4OBxnOO3amz+C77Q7Dw5deHQl3e6GrrJA8nli6WQHzACeAdxJGfXrwKvadp2s614wt9d1+wXTIdPgeOztBOsrF34dyV4AxxjrQB19FFFABRRRQAUUUUAFFFFABRRRQAVDeQPc2NxBDO9vJLEyLMn3oyRgMPcdamqK6klhs5pLaD7RMkbNHCHC+YwHC5PAyeMmgDg/Dmj2mh/Fi9s7EPsGkIzPI5d5GMgyzMepNdNq2i+HV+26vrNjavmH/SJ7iPfhFHbOccf3evFcvbf8JXH48m16TwlIIp7RbVohqEBKYcHdnPP0p/i+y8Sav4mjhOhPqPh+12uII7yKEXMmAcvuOSoORtwOlAHOwPeaN8D7kBZrZdSvNtpuOGjgkZefXBAbvzuz0re8feG9K0HwUuqaPY29peaTJBJBNFGFdvnVcMwwT97Jz3rV1PTdT8Y+Dr7TNQ0r+w7j5Ta7rlJVLLypynQZGOnQ5FUb+z8VeLbO10bWtHj02y81Gv7oXaSeeqEHCKvI3EA89KAO9ooooAKqan/AMg2X8P5irdVNT/5Bsv4fzFAFuiiigAooooAKKKKACiiigAooooAKKKKACiiigAooooAKKKKACiiigAooooAKKKKACiiigAooooAKKKKACiiigAooooAKKKKACiiigAooooAKKKKACiiigAooooAKKKKACiiigAooooAKKKKACiiigAooooAKKKKACiiigAooooAKKKKACiiigAooooAKKKKACiiigAooooAKKKKACiiigAooooAKKKKACiiigAooooAKKKKACiiigAooooAKKKKACiiigAooooAKKKKACiiigAooooAKKKKACiiigAooooAKKKKACiiigAooooAKKKKACqmp/8AINl/D+Yq3VTU/wDkGy/h/MUAW6Kh23P/AD2i/wC/R/8AiqKAJqKKKACiiigAooooAKKKKACiiigAooooAKKKKACiiigAooooAKKKKACiiigAooooAKKKKACiiigAooooAKKKKACiiigAooooAKKKKACiiigAooooAKKKKACiiigAooooAKKKKACiiigApk8vkW8kux5PLUtsjGWbAzgDuafRQBxNz8T7SzaFbvw34jgadxHEJbAKZHPRVy/J9hW7oPiIa606/wBkatpphCn/AImFr5Qkzn7pyc4xz9RWB8RP+Qp4R/7DcH/oQrX8eXM9n4E1W4tJpIJo4cpJE5VlOR0I5FAHQ0VxXh3RNXl0aHWr3xPfC+urLcEZg1tAGj+Q+WeCy8EknnBz1zXJa/rdhoNi13oXjzUdS1e3kRvImuDNBOMgMu0DaB1PU9Md80Aen6nq0+n6jp1tDpl1eJeSlJJoVyluBj5nPYc/oa064vxVqlyniXwetnczQQXl0xljRyokXapAYDr16VQvU1fWPinqOjW+tXdhYCyjllEEhDgccR5yEJJGWxnigD0OszQNWn1nTmubnTLrTHErIIbpdrkD+LHof6VzXhWe/wBL8d6v4budRudRtIoEureS7cySpnAKlj1HP6duc42m6xqUvwY1m/k1C6a8jml2XBmbemGXGGzkfhQB6jRXmGpafrtr4DTxU3ibUf7SjgiuVhSXFtt4whj/AIuDyTnJ61qeK9fvDpPhoi9bSrPVpE+2XsZ2GEFAwUMchc88n09M0Ad3VDWdV/sbTzdfYL2/+YL5NjD5snPfbkcVwGjW274npY6b4r1bVLCCz+1SZ1AyKjhwNjH7rKQenXnrxXp1AHEj4n2jXxsl8N+IzdqnmG3FgPMCZxu2784yetayeKJphpTQaBqoW/laOQTW5ja0CkDdIOcA5yOen5Vj23/JdLz/ALAg/wDRqVY8Y393a+LPCcFtczQxXF46zJG5USABcBgOo5PBoA7CivPL1NX1j4p6jo1vrV3YWAso5ZRBIQ4HHEechCSRlsZ4qrptlrtx4z1XwrJ4mvxp1oEuBMGzcsrAfu/MPI+919gRjJoA9NorgvD2sXmg3nizTNVvp9Sj0SNbqB533SNGYy+1mxyQAv4k1ytp4ms9S0VtT1Lx3qFnrkgZ1toCy28R5CoY9pUjpznv170Aez1ga/r09jrOj6RpiwyXuoTneJVLCOBQS78Ec9MevNS+D9Zl8QeEdP1O5VVmnjPmBVwNwYqSB9RmsKJze/G+YSgbNP0gCLk8Mzgk/kxH5UAdvWH4w1m88PeHZNVsYYpxbSI08UmctEWAbaR0bnOTkdeDXK+LNRceOlsNf1nUND0j7MGtJ7CUxCWQ9fMcA9MHAPoD356ma1M/gS6tJL/+0xJZSxi6BAMqlWAORwTjAz3PNAGzbzxXVtFcW774pUDow/iUjIP5VJXMfDe6e7+HWjySNuKwmPPsjsoH4BcV09ABRRRQAUUUUAFFFFABRRRQAUUUUAFFFFABRRRQAUUUUAFFFFABRRRQAUUUUAFFFFABRRRQAUUUUAFFFFABRRRQAUUUUAFFFFABRRRQAUUUUAFVNT/5Bsv4fzFW6qan/wAg2X8P5igC3RRRQAUUUUAFFFFABRRRQAUUUUAFFFFABRRRQAUUUUAFFFFABRRRQAUUUUAFFFFABRRRQAUUUUAFFFFABRRRQAUUUUAFFFFABRRRQAUUUUAFFFFABRRRQAUUUUAFFFFABRRRQAUUUUAFFFFABRRRQBy3jPRb7Vrzw7Lp8IlWx1WGecbwpWMHJbk84x0HPtV3xnp11q3g3UrHT4vOuZ4tsabgu45HckCtyigDnbzQLnUPh0NC8xbe6awSAseVVwoBBx2yMZ/nXGX+keMb74fDwzb+FrSyRIo0klF5GTOUYHKqDwTtBJY9zXqtFAHH67oWo3useEZ7a33x6dKWum3qPLG1R3PPQ9M1PZaLfxfFHUtYkh22M1gkMcu9fmcFSRjOe3cV1NFAHLWWi38XxR1LWJIdtjNYJDHLvX5nBUkYznt3FYWn+FdZg+Euq6NLZ7dQuJZGih81DuBYEfNnA6dzXo1FAHLazot/c/C5tHt4fMvvsEcIiDqMuoUEZJx2Peub8SWF6+oeC9Is47SbUre1dZba9i8yDZ5Sqxf1xtIAHPPbv6bWJ4g8Kaf4ikt5rl7i1u7Unybuzl8uWPPUBvT/AD60Ac9p2o6p4U8Q6dpGraVosFrqrskUujxtEFcAfeU9ev6/hXeVz2leDLHTdVXU57u/1O+jQpFPqFx5phByDtAAAyD6fzOehoA5aHRb6P4rT6y0I+wSaUIBKHH+s8xTtxnPQZzjHvSeKtGv9S8T+GLuyg8yCxunkuH3qNikLg4Jyeh6ZrqqKAOWstFv4vijqWsSQ7bGawSGOXevzOCpIxnPbuKTTdGv7f4nazq00G2xurWKOGXep3MoXIxnI6HqK6qigDjIPDN3ceNPFk17AU07VrSK3ilDqd/7oI3AORjnrioNCPjDwzpcejHw9FqsVrlILyK+SIOmTgMrZIP09vSu6ooAr6e14+nwtqaQx3ZXMqQsWRT6AmuQuh/Zfxpsrhzti1bTXt1J/ikRtxH5Bfz+ldvWXrOgWutyWEtxJNFNYXC3EEkLAEMOxyCCD3FAGXr1x4g+1XFpH4Ystb0+UAwM1yibPlAIkR+vzbuV7Y71nWOmz+C/hDeQagweeK1ndkV9yIz5wik9uRn3z1ruazNf0G28R6ctjfSzJb+ckrpEwHm7TkI2QcrnBx7DmgCl4DsTp3gLR7dl2t9mWRhjGC/zkH3+augoooAKKKKACiiigAooooAKKKKACiiigAooooAKKKKACiiigAooooAKKKKACiiigAooooAKKKKACiiigAooooAKKKKACiiigAooooAKKKKACiiigAqpqf8AyDZfw/mKt1U1P/kGy/h/MUAW6KKKACiiigAooooAKKKKACiiigAooooAKKKKACiiigAooooAKKKKACiiigAooooAKKKKACiiigAooooAKKKKACiiigAooooAKKKKACiiigAooooAKKKKACiiigAooooAKKKKACiiigAooooAKKKKACiiigAooooAKKKKACiiigAooooAKKKKACiiigAooooAKKKKACiiigAooooAKKKKACiiigAooooAKKKKACiiigAooooAKKKKACiiigAooooAKKKKACiiigAooooAKKKKACiiigAooooAKKKKACiiigAooooAKKKKACiiigAooooAKqan/wAg2X8P5irdVNT/AOQbL+H8xQBL9lj/AL0v/f5/8aKmooAKKKKACiiigAooooAKKKKACiiigAooooAKKKKACiiigAooooAKKKKACiiigAooooAKKKKACiiigAooooAKKKKACiiigAooooAKKKKACiiigAooooAKKKKACiiigAooooAKKKKACiiigAooooAKKKKACiiigAooooAKKKKACiiigAooooAKKKKACiiigAooooAKKKKACiiigAooooAKKKKACiiigAooooAKKKKACiiigAooooAKKKKACiiigAooooAKKKKACiiigAooooAKKKKACiiigAooooAKKKKACiiigAooooAKKKKACiiigAqpqf8AyDZfw/mKt1U1P/kGy/h/MUAW6KKKAP/Z)\r\n",
        "\r\n",
        "## Improvements\r\n",
        "\r\n",
        "This model can be improved by testing different numbers of hidden layers and/or hidden neurons. Also, increasing the size of the training set will reduce the error of the model and minimize overfitting. "
      ]
    }
  ]
}