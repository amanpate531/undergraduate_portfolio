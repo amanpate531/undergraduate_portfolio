{
  "nbformat": 4,
  "nbformat_minor": 0,
  "metadata": {
    "colab": {
      "name": "HW3P2Q3.ipynb",
      "provenance": [],
      "collapsed_sections": []
    },
    "kernelspec": {
      "name": "python3",
      "display_name": "Python 3"
    },
    "language_info": {
      "name": "python"
    }
  },
  "cells": [
    {
      "cell_type": "code",
      "metadata": {
        "colab": {
          "base_uri": "https://localhost:8080/"
        },
        "id": "wpbh0RWN7evY",
        "outputId": "d64070c2-0eb4-4d26-8f58-3bc08a37d9eb"
      },
      "source": [
        "import numpy as np\n",
        "import matplotlib.pyplot as plt\n",
        "from mlxtend.plotting import plot_decision_regions\n",
        "from sklearn.svm import SVC\n",
        "import random\n",
        "\n",
        "data = np.loadtxt('wine.data', delimiter=',')\n",
        "\n",
        "X = data[:, 1:]\n",
        "y = data[:, 0]\n",
        "y = y.astype(np.int)\n",
        "\n",
        "class1 = random.sample(list(X[:59]), 48)\n",
        "class2 = random.sample(list(X[59:130]), 48)\n",
        "class3 = random.sample(list(X[130:]), 48)\n",
        "\n",
        "X = class1 + class2 + class3\n",
        "y = [1] * 48 + [2] * 48 + [3] * 48\n",
        "\n",
        "from sklearn.model_selection import train_test_split\n",
        "X_train, X_test, y_train, y_test = train_test_split(X, y, test_size=1/3, random_state = 0)\n",
        "\n",
        "# standardize the features\n",
        "from sklearn.preprocessing import StandardScaler\n",
        "sc = StandardScaler()\n",
        "sc.fit(X_train)\n",
        "X_train_std = sc.transform(X_train)\n",
        "X_test_std = sc.transform(X_test)\n",
        "\n",
        "svm = SVC(kernel='rbf', random_state=0, gamma=0.2, C=1.0)\n",
        "svm.fit(X_train_std, y_train)\n",
        "svm.predict(X_test)"
      ],
      "execution_count": 46,
      "outputs": [
        {
          "output_type": "execute_result",
          "data": {
            "text/plain": [
              "array([2, 2, 2, 2, 2, 2, 2, 2, 2, 2, 2, 2, 2, 2, 2, 2, 2, 2, 2, 2, 2, 2,\n",
              "       2, 2, 2, 2, 2, 2, 2, 2, 2, 2, 2, 2, 2, 2, 2, 2, 2, 2, 2, 2, 2, 2,\n",
              "       2, 2, 2, 2])"
            ]
          },
          "metadata": {
            "tags": []
          },
          "execution_count": 46
        }
      ]
    },
    {
      "cell_type": "markdown",
      "metadata": {
        "id": "cFjfjvNzEJl6"
      },
      "source": [
        "Using the provided SVM implementation, I was unable to produce any meaningful results. The model incorrectly classified all test data points as class 2. I assumed this was due to the imbalance in the data towards class 2, but after rebalancing the classes, I received the same result. The MLP implementation I wrote for Project 1 gave an accuracy of 90-95%. Theoretically, the SVM would have a greater accuracy than the MLP, and I will test this in the future."
      ]
    }
  ]
}