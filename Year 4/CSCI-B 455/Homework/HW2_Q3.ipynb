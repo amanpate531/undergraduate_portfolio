{
  "nbformat": 4,
  "nbformat_minor": 0,
  "metadata": {
    "colab": {
      "name": "Homework2Question3.ipynb",
      "provenance": [],
      "collapsed_sections": []
    },
    "kernelspec": {
      "name": "python3",
      "display_name": "Python 3"
    }
  },
  "cells": [
    {
      "cell_type": "markdown",
      "metadata": {
        "id": "4iqjT0ppd-yR"
      },
      "source": [
        "#Homework 2 Q3\r\n",
        "\r\n",
        "###Aman Patel\r\n",
        "###CSCI-B 455\r\n",
        "### February 19, 2021"
      ]
    },
    {
      "cell_type": "code",
      "metadata": {
        "colab": {
          "base_uri": "https://localhost:8080/",
          "height": 300
        },
        "id": "cJcaTtR8d90f",
        "outputId": "164023c0-8643-4a0b-cee8-bb81b045a18d"
      },
      "source": [
        "import numpy as np\r\n",
        "import matplotlib.pyplot as plt\r\n",
        "\r\n",
        "def linreg(inputs,targets):\r\n",
        "    inputs = np.concatenate((inputs,-np.ones((np.shape(inputs)[0],1))), axis=1)\r\n",
        "    beta = np.dot(np.dot(np.linalg.inv(np.dot(np.transpose(inputs), inputs)),np.transpose(inputs)),targets)\r\n",
        "    outputs = np.dot(inputs,beta)\r\n",
        "    return outputs\r\n",
        "\r\n",
        "def find_equation(inputs, outputs):\r\n",
        "    x1 = inputs[0][0]\r\n",
        "    x2 = inputs[1][0]\r\n",
        "    y1 = outputs[0][0]\r\n",
        "    y2 = outputs[1][0]\r\n",
        "    slope = (y2-y1)/(x2-x1)\r\n",
        "    intercept = y1 - slope * x1\r\n",
        "    return slope, intercept\r\n",
        "    \r\n",
        "\r\n",
        "def main():\r\n",
        "    inputs = np.array([[28540], [40133], [39900], [0], [0], [42050], [43220], [39565], [40400], [54506]])\r\n",
        "    targets = np.array([[137], [135], [127], [122], [120], [118], [118], [117], [117], [114]])\r\n",
        "    outputs = linreg(inputs, targets)\r\n",
        "    slope, intercept = find_equation(inputs, outputs)\r\n",
        "    print(\"Slope:\", slope)\r\n",
        "    print(\"Intercept:\", intercept)\r\n",
        "    plt.scatter(inputs, targets)\r\n",
        "    plt.plot(inputs, outputs)\r\n",
        "    plt.show()\r\n",
        "\r\n",
        "if __name__ == \"__main__\":\r\n",
        "    main()"
      ],
      "execution_count": 3,
      "outputs": [
        {
          "output_type": "stream",
          "text": [
            "Slope: -6.30274886904275e-05\n",
            "Intercept: 124.56928069219099\n"
          ],
          "name": "stdout"
        },
        {
          "output_type": "display_data",
          "data": {
            "image/png": "[encoded data removed]",
            "text/plain": [
              "<Figure size 432x288 with 1 Axes>"
            ]
          },
          "metadata": {
            "tags": [],
            "needs_background": "light"
          }
        }
      ]
    },
    {
      "cell_type": "markdown",
      "metadata": {
        "id": "BEeEmRTdeUSs"
      },
      "source": [
        "After running the linear regression function on the input data, the outputs were used to find the equation of the regression line. As the slope of the regression line is less than 0, it appears as though mid-career salary decreases as tuition increases. However, only 10 data points were used to find this line. Increasing the sample size may yield a different result."
      ]
    }
  ]
}