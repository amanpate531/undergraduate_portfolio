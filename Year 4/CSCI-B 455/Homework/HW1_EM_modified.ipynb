{
  "nbformat": 4,
  "nbformat_minor": 0,
  "metadata": {
    "colab": {
      "name": "EM_modifiedAP.ipynb",
      "provenance": [],
      "collapsed_sections": []
    },
    "kernelspec": {
      "name": "python3",
      "display_name": "Python 3"
    }
  },
  "cells": [
    {
      "cell_type": "code",
      "metadata": {
        "id": "pLDEgi3wBBzO",
        "colab": {
          "base_uri": "https://localhost:8080/",
          "height": 293
        },
        "outputId": "df57f4c1-09e4-4aa9-c10b-bc7dbb533511"
      },
      "source": [
        "import numpy as np\n",
        "import matplotlib.pyplot as plt\n",
        "\n",
        "# set random seed so that everytime we get the same result\n",
        "np.random.seed(1)\n",
        "\n",
        "# prepare simulation data\n",
        "N1 = 1000\n",
        "N2 = 1000\n",
        "N3 = 1000\n",
        "N = N1 + N2 + N3\n",
        "real_mu1 = 0.2\n",
        "real_std1 = 1\n",
        "real_mu2 = 0.5\n",
        "real_std2 = 1\n",
        "real_mu3 = 0.3\n",
        "real_std3 = 1\n",
        "y = np.concatenate((np.random.normal(real_mu1, real_std1, N1), np.random.normal(real_mu2, real_std2, N2), np.random.normal(real_mu3, real_std3, N3)))\n",
        "\n",
        "\n",
        "# EM algorithm\n",
        "\n",
        "# Initialization\n",
        "nits = 1000\n",
        "count = 0 # should be initialized as 0\n",
        "p1 = 0.33\n",
        "p2 = 0.33\n",
        "p3 = 0.34\n",
        "mu1 = np.random.random()\n",
        "mu2 = np.random.random()\n",
        "mu3 = np.random.random()\n",
        "s1 = np.std(y)\n",
        "s2 = s1\n",
        "s3 = s1\n",
        "ll = np.zeros(nits)\n",
        "gamma1 = np.zeros(N)\n",
        "gamma2 = np.zeros(N)\n",
        "gamma3 = np.zeros(N)\n",
        "pi = 3.14159\n",
        "\n",
        "while count < nits:\n",
        "    count = count + 1\n",
        "    # E-step\n",
        "    for i in range(N):\n",
        "        num1 = p1 * np.exp(-(y[i]-mu1)**2/(2*s1)) / np.sqrt(2 * pi * s1) \n",
        "        num2 = p2 * np.exp(-(y[i]-mu2)**2/(2*s2)) / np.sqrt(2 * pi * s2)\n",
        "        num3 = p3 * np.exp(-(y[i]-mu3)**2/(2*s3)) / np.sqrt(2 * pi * s3)\n",
        "        gamma1[i] = num1 / (num1 + num2 + num3)\n",
        "        gamma2[i] = num2 / (num1 + num2 + num3)\n",
        "        gamma3[i] = num3 / (num1 + num2 + num3)\n",
        "    # M-step\n",
        "    mu1 = np.sum(gamma1*y) / np.sum(gamma1)\n",
        "    mu2 = np.sum(gamma2*y) / np.sum(gamma2)\n",
        "    mu3 = np.sum(gamma3*y) / np.sum(gamma3)\n",
        "    s1 = np.sum(gamma1*(y-mu1)**2) / np.sum(gamma1)\n",
        "    s2 = np.sum(gamma2*(y-mu2)**2) / np.sum(gamma2)\n",
        "    s3 = np.sum(gamma3*(y-mu3)**2) / np.sum(gamma3)\n",
        "    p1 = np.sum(gamma1) / N\n",
        "    p2 = np.sum(gamma2) / N\n",
        "    p3 = np.sum(gamma3) / N\n",
        "    ll[count - 1] = np.sum(np.log(p1*np.exp(-(y-mu1)**2/(2*s1)) / np.sqrt(s1) + p2*np.exp(-(y-mu2)**2/(2*s2)) / np.sqrt(s2) + p3*np.exp(-(y-mu3)**2/(2*s3)) / np.sqrt(s3)))\n",
        "    \n",
        "    \n",
        "print('Estimated (mu1, sigma1): (%s, %s), (mu2, sigma2): (%s, %s), (mu3, sigma3): (%s, %s)' % (mu1, s1, mu2, s2, mu3, s3))     \n",
        "plt.plot(range(nits), ll)\n",
        "for i in range(0, nits - 1):\n",
        "  if ll[i] > ll[i + 1]:\n",
        "    print(\"Log-likelihood went down... that's not supposed to happen!\")"
      ],
      "execution_count": 2,
      "outputs": [
        {
          "output_type": "stream",
          "text": [
            "Estimated (mu1, sigma1): (0.23211729195978908, 0.9744857696363143), (mu2, sigma2): (0.3628149847257224, 0.9020317084406986), (mu3, sigma3): (0.4573559461426215, 1.1222000979197277)\n"
          ],
          "name": "stdout"
        },
        {
          "output_type": "display_data",
          "data": {
            "image/png": "[encoded data removed]",
            "text/plain": [
              "<Figure size 432x288 with 1 Axes>"
            ]
          },
          "metadata": {
            "tags": [],
            "needs_background": "light"
          }
        }
      ]
    },
    {
      "cell_type": "markdown",
      "metadata": {
        "id": "_1XfCmYQOYUH"
      },
      "source": [
        "#Homework 1 Question 5\r\n",
        "\r\n",
        "###Changes:\r\n",
        "\r\n",
        "1.   Added a third set of all variables to represent the 3rd Gaussian model\r\n",
        "2.   Changed the probabilities `p1`, `p2`, `p3`, and values of `mu1`, `mu2`, and `mu3` such that their new sum is 1\r\n",
        "3.   Multiplied the values of `num1`, `num2`, and `num3` by `1 / sqrt(2 * pi)`\r\n",
        "\r\n",
        "###Results:\r\n",
        "\r\n",
        "*   The estimated values for μ and σ were relatively close to the real values\r\n",
        "  * `Estimated (mu1, sigma1): (0.23211729195978908, 0.9744857696363143)`\r\n",
        "  * `Estimated (mu2, sigma2): (0.3628149847257224, 0.9020317084406986)`\r\n",
        "  * `Estimated (mu3, sigma3): (0.4573559461426215, 1.1222000979197277)`\r\n",
        "*   The log-likelihood curve is always increasing, and it increases more sharply than the 2-class EM implementation from `count = 0` to `count = 150`\r\n",
        "\r\n",
        "###Log-likelihood curve:\r\n",
        "\r\n",
        "![result.png](data:image/png;base64,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)\r\n",
        "\r\n",
        "\r\n",
        "\r\n",
        "\r\n",
        "\r\n"
      ]
    }
  ]
}